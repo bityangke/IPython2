{
 "cells": [
  {
   "cell_type": "code",
   "execution_count": 156,
   "metadata": {
    "collapsed": true
   },
   "outputs": [],
   "source": [
    "# -*-coding:utf-8-*-\n",
    "%matplotlib inline\n",
    "import pandas as pd\n",
    "import numpy as np\n",
    "from statsmodels.tsa.arima_model import ARMA\n",
    "import sys\n",
    "from dateutil.relativedelta import relativedelta\n",
    "from copy import deepcopy\n",
    "#import matplotlib.pyplot as plt\n",
    "import MySQLdb\n",
    "import datetime\n",
    "from math import isnan\n",
    "\n",
    "windowSize = 7\n",
    "forecastnum = 10"
   ]
  },
  {
   "cell_type": "code",
   "execution_count": 157,
   "metadata": {
    "collapsed": false
   },
   "outputs": [],
   "source": [
    "# 打开数据库连接\n",
    "db = MySQLdb.connect(\"test-dataverse-web.ccxsyvw76h8l.rds.cn-north-1.amazonaws.com.cn\",\"datauser\",\"ebOUeWSin3hAAKKD\",\"dataverse\" )\n",
    "# 使用cursor()方法获取操作游标 \n",
    "cursor = db.cursor()\n",
    "# 使用execute方法执行SQL语句\n",
    "cursor.execute(\"INSERT INTO ROI_Retained_Predict_GroupBy_c (`date`, retain_day, pdtid, country_iso, channel_category, pid, retain) select date,retain_day,pdtid,country_iso,channel_category,pid,retain from (select date,retain_day,pdtid,country_iso,channel_category,pid,sum(retain) as retain from ROI_Retained group by date,retain_day,pdtid,country_iso,channel_category,pid) t on DUPLICATE KEY UPDATE retain=t.retain;\")\n",
    "cursor.execute(\"commit;\")\n",
    "cursor.execute(\"SELECT * from ROI_Retained_Predict_GroupBy_c where retain>0 and date = 20161001;\")\n",
    "#and date=20161024 and pdtid='600007'\n",
    "data = cursor.fetchall()\n",
    "#print data"
   ]
  },
  {
   "cell_type": "code",
   "execution_count": 158,
   "metadata": {
    "collapsed": true
   },
   "outputs": [],
   "source": [
    "from statsmodels.tsa.arima_model import ARIMA\n",
    "\n",
    "#定阶\n",
    "def definePQ(data):\n",
    "    c = 1\n",
    "    #一般阶数不超过length/10\n",
    "    pmax = int(len(data)/10)\n",
    "    #一般阶数不超过length/10\n",
    "    qmax = int(len(data)/10)\n",
    "    \n",
    "    data=data.astype('float64')\n",
    "    #bic矩阵\n",
    "    bic_matrix = [] \n",
    "    for p in range(pmax+1):\n",
    "        tmp = [] #tmp保存的是计算的bic值\n",
    "        for q in range(qmax+1):#存在部分报错，所以用try来跳过报错。\n",
    "            try: \n",
    "                r = ARIMA(data, (p,1,q)).fit().bic\n",
    "                if isnan(r):\n",
    "                    tmp.append(p+q+1000000000)\n",
    "                else:\n",
    "                    tmp.append(r)\n",
    "            except:\n",
    "                #如果bic值为None，则保存一个最大的整数来代表bic\n",
    "                tmp.append(p+q+1000000000)\n",
    "        print tmp\n",
    "        bic_matrix.append(tmp)\n",
    "    #从中可以找出最小值\n",
    "    bic_matrix = pd.DataFrame(bic_matrix) \n",
    "    #先用stack展平，然后用idxmin找出最小值位置。\n",
    "    p,q = bic_matrix.stack().idxmin() \n",
    "    bicMin = bic_matrix.stack()[p,q]\n",
    "    if bicMin >= 1000000000:\n",
    "        return 0, 0, 0 \n",
    "    print(u'BIC最小的p值和q值为：%s、%s' %(p,q)) \n",
    "    return p, c, q"
   ]
  },
  {
   "cell_type": "code",
   "execution_count": 159,
   "metadata": {
    "collapsed": true
   },
   "outputs": [],
   "source": [
    "#建立ARIMA(p, c, q)模型\n",
    "def buildARIMA(data, start, end):\n",
    "    p,c,q = definePQ(data)\n",
    "    model = ARIMA(data, (p,c,q)).fit()\n",
    "    \n",
    "    if c == 0:\n",
    "        result = model.predict(start=start, end=end)\n",
    "    else:\n",
    "        result = model.predict(start=start, end=end, typ='levels')\n",
    "    result = np.exp(result)\n",
    "    print result\n",
    "    return result"
   ]
  },
  {
   "cell_type": "code",
   "execution_count": 160,
   "metadata": {
    "collapsed": false
   },
   "outputs": [],
   "source": [
    "dic={}\n",
    "#(20161001L, 20161002L, '600004', 'VN', 'adwords', 'ha_holaverse_int', 95L, None)\n",
    "for i in range(len(data)):\n",
    "    key=str(data[i][0]) + '#' + str(data[i][2]) + '#' + str(data[i][3]) + '#' + str(data[i][4]) + '#' + str(data[i][5])\n",
    "    if dic.has_key(key):\n",
    "        dic[key].extend([[data[i][1],data[i][6]]])\n",
    "    else:\n",
    "        dic[key]=[[data[i][1],data[i][6]]]\n",
    "#print dic"
   ]
  },
  {
   "cell_type": "code",
   "execution_count": 161,
   "metadata": {
    "collapsed": false
   },
   "outputs": [
    {
     "name": "stdout",
     "output_type": "stream",
     "text": [
      "20161001#600004#VN#adwords#ha_holaverse_int\n",
      "40\n",
      "[-25.199463944063062, -23.721746732375152, -24.189611223231044, -20.857726935146708, -17.457713845240562]\n",
      "[-22.28286125247044, -21.870376821106579, -18.368686625684639, 1000000004, 1000000005]\n",
      "[-23.217275503335561, -18.248184365306265, -16.763111975307851, 1000000005, 1000000006]\n",
      "[-19.923592867935334, -16.879345391464113, -13.547105095753086, 1000000006, 1000000007]\n",
      "[-16.358375785402444, -13.315399332994748, -10.560672286937184, -8.3367466888016395, 1000000008]\n",
      "BIC最小的p值和q值为：0、0\n",
      "2016-11-11    18.231873\n",
      "2016-11-12    17.494800\n",
      "2016-11-13    16.787525\n",
      "2016-11-14    16.108844\n",
      "2016-11-15    15.457600\n",
      "2016-11-16    14.832684\n",
      "2016-11-17    14.233033\n",
      "2016-11-18    13.657624\n",
      "2016-11-19    13.105477\n",
      "2016-11-20    12.575652\n",
      "Freq: D, dtype: float64\n",
      "20161111\n",
      "['20161001', '20161111', '600004', 'VN', 'adwords', 'ha_holaverse_int', 18.231873252832049, 18.231873252832049]\n",
      "20161112\n",
      "['20161001', '20161112', '600004', 'VN', 'adwords', 'ha_holaverse_int', 17.494800121438569, 17.494800121438569]\n",
      "20161113\n",
      "['20161001', '20161113', '600004', 'VN', 'adwords', 'ha_holaverse_int', 16.787525178826254, 16.787525178826254]\n",
      "20161114\n",
      "['20161001', '20161114', '600004', 'VN', 'adwords', 'ha_holaverse_int', 16.108843752057211, 16.108843752057211]\n",
      "20161115\n",
      "['20161001', '20161115', '600004', 'VN', 'adwords', 'ha_holaverse_int', 15.457599870378031, 15.457599870378031]\n",
      "20161116\n",
      "['20161001', '20161116', '600004', 'VN', 'adwords', 'ha_holaverse_int', 14.832684296301339, 14.832684296301339]\n",
      "20161117\n",
      "['20161001', '20161117', '600004', 'VN', 'adwords', 'ha_holaverse_int', 14.233032636286232, 14.233032636286232]\n",
      "20161118\n",
      "['20161001', '20161118', '600004', 'VN', 'adwords', 'ha_holaverse_int', 13.657623527799615, 13.657623527799615]\n",
      "20161119\n",
      "['20161001', '20161119', '600004', 'VN', 'adwords', 'ha_holaverse_int', 13.105476899670501, 13.105476899670501]\n",
      "20161120\n",
      "['20161001', '20161120', '600004', 'VN', 'adwords', 'ha_holaverse_int', 12.575652302774262, 12.575652302774262]\n"
     ]
    }
   ],
   "source": [
    "#result\n",
    "\n",
    "def formatTime(strs):\n",
    "    strs = str(strs)\n",
    "    return strs[0:4] + '-' + strs[4:6] + '-' + strs[6:8]\n",
    "\n",
    "colname = ['cnt']\n",
    "for key in dic:\n",
    "    print key\n",
    "    keys = key.split(\"#\")\n",
    "    indexs = []\n",
    "    cnt = []\n",
    "    value = dic[key]\n",
    "    value.sort()\n",
    "    for j in range(len(value)):\n",
    "        indexs.append(value[j][0])\n",
    "        cnt.append(value[j][1])\n",
    "        \n",
    "    ts = pd.DataFrame(cnt, index=indexs, columns=colname)\n",
    "    ts['day'] = ts.index\n",
    "    ts.index = pd.to_datetime(ts['day'].apply(formatTime))\n",
    "    data = np.log(ts['cnt'])\n",
    "    length = len(data)\n",
    "    print length\n",
    "    td = data.index[-1]-data.index[0]\n",
    "    td = (td / np.timedelta64(1, 'D')).astype(int) + 1\n",
    "    if td<>length:\n",
    "        continue\n",
    "    if length>5:\n",
    "        resultValues = []\n",
    "        datats = data\n",
    "        #print datats\n",
    "        newDate = datats.index[-1] + relativedelta(days=1)\n",
    "        endData = datats.index[-1] + relativedelta(days=forecastnum)\n",
    "        newDateStr = newDate.strftime(\"%Y-%m-%d\")\n",
    "        endDataStr = endData.strftime(\"%Y-%m-%d\")\n",
    "        #print datats #a=ARIMA(datats, (0,0,0)).fit() #print a.predict(start='2016-11-03',end='2016-11-03')\n",
    "        result = buildARIMA(datats,newDateStr,endDataStr)\n",
    "        sql = \"INSERT INTO ROI_Retained_Predict_GroupBy_c (`date`, retain_day, pdtid, country_iso, \\\n",
    "            channel_category, pid, retain_predict) VALUES (%s,%s,%s,%s,%s,%s,%s) \\\n",
    "            ON DUPLICATE KEY UPDATE retain_predict=%s;\"\n",
    "        for i in range(forecastnum):\n",
    "            dateStr = (newDate + relativedelta(days=i)).strftime(\"%Y-%m-%d\").replace(\"-\",\"\")\n",
    "            resultValues = [keys[0], dateStr, keys[1], keys[2], keys[3], keys[4], result[i], result[i]]\n",
    "            cursor.execute(sql, resultValues)\n",
    "\n",
    "        "
   ]
  },
  {
   "cell_type": "code",
   "execution_count": 154,
   "metadata": {
    "collapsed": false
   },
   "outputs": [],
   "source": [
    "cursor.execute(\"commit;\")\n",
    "# 关闭数据库连接\n",
    "db.close()"
   ]
  },
  {
   "cell_type": "code",
   "execution_count": 86,
   "metadata": {
    "collapsed": true
   },
   "outputs": [],
   "source": [
    "logPath =\"/Users/holazhai/Documents/workspace/readshift/result_uniq_sort_ha_holaverse_int_ts.log\"\n",
    "windowSize = 7\n",
    "forecastnum = 5"
   ]
  },
  {
   "cell_type": "code",
   "execution_count": 63,
   "metadata": {
    "collapsed": true
   },
   "outputs": [],
   "source": [
    "def dfSplit(line):\n",
    "    return line.split('#')[1]"
   ]
  },
  {
   "cell_type": "code",
   "execution_count": 65,
   "metadata": {
    "collapsed": false
   },
   "outputs": [
    {
     "data": {
      "text/plain": [
       "vDay\n",
       "2016-08-01    404\n",
       "2016-08-02    370\n",
       "2016-08-03    332\n",
       "2016-08-04    305\n",
       "2016-08-05    330\n",
       "2016-08-06    331\n",
       "2016-08-07    310\n",
       "2016-08-08    353\n",
       "2016-08-09    285\n",
       "2016-08-10    279\n",
       "2016-08-11    269\n",
       "2016-08-12    305\n",
       "2016-08-13    323\n",
       "2016-08-14    293\n",
       "2016-08-15    291\n",
       "2016-08-16    287\n",
       "2016-08-17    280\n",
       "2016-08-18    290\n",
       "2016-08-19    271\n",
       "2016-08-20    277\n",
       "2016-08-21    181\n",
       "2016-08-22    240\n",
       "2016-08-23    252\n",
       "2016-08-24    161\n",
       "2016-08-25    231\n",
       "2016-08-26    238\n",
       "2016-08-27    224\n",
       "2016-08-28    151\n",
       "2016-08-29    232\n",
       "2016-08-30    216\n",
       "             ... \n",
       "2016-09-01    216\n",
       "2016-09-02    159\n",
       "2016-09-03    124\n",
       "2016-09-04    124\n",
       "2016-09-05    186\n",
       "2016-09-06    170\n",
       "2016-09-07    147\n",
       "2016-09-08    180\n",
       "2016-09-09    182\n",
       "2016-09-10    105\n",
       "2016-09-11    110\n",
       "2016-09-12    160\n",
       "2016-09-13    163\n",
       "2016-09-14    157\n",
       "2016-09-15    157\n",
       "2016-09-16    159\n",
       "2016-09-17    163\n",
       "2016-09-18    150\n",
       "2016-09-19    158\n",
       "2016-09-20    130\n",
       "2016-09-21    147\n",
       "2016-09-22    147\n",
       "2016-09-23    127\n",
       "2016-09-24    144\n",
       "2016-09-25    146\n",
       "2016-09-26    127\n",
       "2016-09-27    133\n",
       "2016-09-28    116\n",
       "2016-09-29    121\n",
       "2016-09-30    118\n",
       "Name: cnt, dtype: int64"
      ]
     },
     "execution_count": 65,
     "metadata": {},
     "output_type": "execute_result"
    }
   ],
   "source": [
    "colname = ['visitDay', 'cnt']\n",
    "df = pd.read_table(logPath,sep=' ',names=colname,encoding='utf-8')\n",
    "df['vDay']=df['visitDay'].apply(dfSplit)\n",
    "\n",
    "df.index=df['vDay']\n",
    "df.index = pd.to_datetime(df['vDay'])\n",
    "ts = df['cnt']\n",
    "data = ts['2016-08':'2016-09']\n",
    "data"
   ]
  },
  {
   "cell_type": "code",
   "execution_count": 66,
   "metadata": {
    "collapsed": false
   },
   "outputs": [],
   "source": [
    "#  数据预处理，两个步骤，一是log，二是差分。可保证数列的平稳性。还是用log吧\n",
    "data = np.log(data)\n",
    "#dataDiff = data.diff(1)"
   ]
  },
  {
   "cell_type": "code",
   "execution_count": 67,
   "metadata": {
    "collapsed": false
   },
   "outputs": [
    {
     "data": {
      "image/png": "[encoded data removed]",
      "text/plain": [
       "<matplotlib.figure.Figure at 0x1196ae1d0>"
      ]
     },
     "metadata": {},
     "output_type": "display_data"
    }
   ],
   "source": [
    "#自相关图\n",
    "from statsmodels.graphics.tsaplots import plot_acf\n",
    "plot_acf(data).show()"
   ]
  },
  {
   "cell_type": "code",
   "execution_count": 68,
   "metadata": {
    "collapsed": false
   },
   "outputs": [
    {
     "name": "stdout",
     "output_type": "stream",
     "text": [
      "(u'ADF Result:', (-0.91554255607376278, 0.78281094972133336, 6, 54, {'5%': -2.9167703434435808, '1%': -3.5577091157343901, '10%': -2.59622219478738}, -31.331973984337623))\n"
     ]
    }
   ],
   "source": [
    "#平稳性检测\n",
    "from statsmodels.tsa.stattools import adfuller as ADF\n",
    "print(u'ADF Result:', ADF(data))"
   ]
  },
  {
   "cell_type": "code",
   "execution_count": 69,
   "metadata": {
    "collapsed": false
   },
   "outputs": [
    {
     "data": {
      "image/png": "[encoded data removed]",
      "text/plain": [
       "<matplotlib.figure.Figure at 0x1006352d0>"
      ]
     },
     "metadata": {},
     "output_type": "display_data"
    }
   ],
   "source": [
    "D_data = data.diff().dropna()\n",
    "D_data.columns = [u'销量差分']\n",
    "D_data.plot() \n",
    "plt.show()"
   ]
  },
  {
   "cell_type": "code",
   "execution_count": 70,
   "metadata": {
    "collapsed": false
   },
   "outputs": [
    {
     "data": {
      "image/png": "[encoded data removed]",
      "text/plain": [
       "<matplotlib.figure.Figure at 0x119417e10>"
      ]
     },
     "metadata": {},
     "output_type": "display_data"
    }
   ],
   "source": [
    "plot_acf(D_data).show() \n",
    "\n",
    "plt.show()"
   ]
  },
  {
   "cell_type": "code",
   "execution_count": 71,
   "metadata": {
    "collapsed": false
   },
   "outputs": [
    {
     "data": {
      "image/png": "[encoded data removed]",
      "text/plain": [
       "<matplotlib.figure.Figure at 0x119311810>"
      ]
     },
     "metadata": {},
     "output_type": "display_data"
    }
   ],
   "source": [
    "from statsmodels.graphics.tsaplots import plot_pacf\n",
    "#偏自相关图\n",
    "\n",
    "plot_pacf(D_data).show() "
   ]
  },
  {
   "cell_type": "code",
   "execution_count": 72,
   "metadata": {
    "collapsed": false
   },
   "outputs": [
    {
     "name": "stdout",
     "output_type": "stream",
     "text": [
      "(u'ADF', (-6.1748054734538664, 6.6704322870264708e-08, 5, 54, {'5%': -2.9167703434435808, '1%': -3.5577091157343901, '10%': -2.59622219478738}, -31.024684264541023))\n"
     ]
    }
   ],
   "source": [
    "print(u'ADF', ADF(D_data)) "
   ]
  },
  {
   "cell_type": "code",
   "execution_count": 73,
   "metadata": {
    "collapsed": false
   },
   "outputs": [
    {
     "name": "stdout",
     "output_type": "stream",
     "text": [
      "(u'baizaosheng', (array([ 4.93564055]), array([ 0.02630831])))\n"
     ]
    }
   ],
   "source": [
    "#白噪声检验\n",
    "from statsmodels.stats.diagnostic import acorr_ljungbox\n",
    "#返回统计量和p值\n",
    "\n",
    "print(u'baizaosheng', acorr_ljungbox(D_data, lags=1)) \n",
    "#P值小于0.05，所以一阶差分后的序列为平稳非白噪声序列"
   ]
  },
  {
   "cell_type": "code",
   "execution_count": 74,
   "metadata": {
    "collapsed": false
   },
   "outputs": [],
   "source": [
    "from statsmodels.tsa.arima_model import ARIMA\n",
    "\n",
    "#定阶\n",
    "def definePQ(data):\n",
    "    #一般阶数不超过length/10\n",
    "    pmax = int(len(D_data)/10)\n",
    "    #一般阶数不超过length/10\n",
    "    qmax = int(len(D_data)/10) \n",
    "    data=data.astype('float64')\n",
    "    #bic矩阵\n",
    "    bic_matrix = [] \n",
    "    for p in range(pmax+1):\n",
    "        tmp = []\n",
    "        for q in range(qmax+1):#存在部分报错，所以用try来跳过报错。\n",
    "            try: \n",
    "                tmp.append(ARIMA(data, (p,1,q)).fit().bic)\n",
    "            except:\n",
    "                tmp.append(None)\n",
    "        bic_matrix.append(tmp)\n",
    "    \n",
    "    #从中可以找出最小值\n",
    "    bic_matrix = pd.DataFrame(bic_matrix) \n",
    "\n",
    "    #先用stack展平，然后用idxmin找出最小值位置。\n",
    "    p,q = bic_matrix.stack().idxmin() \n",
    "\n",
    "    print(u'BIC最小的p值和q值为：%s、%s' %(p,q)) \n",
    "    return p,q"
   ]
  },
  {
   "cell_type": "code",
   "execution_count": 78,
   "metadata": {
    "collapsed": false
   },
   "outputs": [
    {
     "name": "stdout",
     "output_type": "stream",
     "text": [
      "<class 'pandas.core.series.Series'>\n"
     ]
    },
    {
     "ename": "ValueError",
     "evalue": "attempt to get argmin of an empty sequence",
     "output_type": "error",
     "traceback": [
      "\u001b[0;31m---------------------------------------------------------------------------\u001b[0m",
      "\u001b[0;31mValueError\u001b[0m                                Traceback (most recent call last)",
      "\u001b[0;32m<ipython-input-78-45f09403ba01>\u001b[0m in \u001b[0;36m<module>\u001b[0;34m()\u001b[0m\n\u001b[1;32m      1\u001b[0m \u001b[0;32mprint\u001b[0m \u001b[0mtype\u001b[0m\u001b[0;34m(\u001b[0m\u001b[0mdata\u001b[0m\u001b[0;34m)\u001b[0m\u001b[0;34m\u001b[0m\u001b[0m\n\u001b[0;32m----> 2\u001b[0;31m \u001b[0mp\u001b[0m\u001b[0;34m,\u001b[0m\u001b[0mq\u001b[0m \u001b[0;34m=\u001b[0m \u001b[0mdefinePQ\u001b[0m\u001b[0;34m(\u001b[0m\u001b[0mdata\u001b[0m\u001b[0;34m)\u001b[0m\u001b[0;34m\u001b[0m\u001b[0m\n\u001b[0m\u001b[1;32m      3\u001b[0m \u001b[0mmodel\u001b[0m \u001b[0;34m=\u001b[0m \u001b[0mARIMA\u001b[0m\u001b[0;34m(\u001b[0m\u001b[0mdata\u001b[0m\u001b[0;34m,\u001b[0m \u001b[0;34m(\u001b[0m\u001b[0mp\u001b[0m\u001b[0;34m,\u001b[0m\u001b[0;36m1\u001b[0m\u001b[0;34m,\u001b[0m\u001b[0mq\u001b[0m\u001b[0;34m)\u001b[0m\u001b[0;34m)\u001b[0m\u001b[0;34m.\u001b[0m\u001b[0mfit\u001b[0m\u001b[0;34m(\u001b[0m\u001b[0;34m)\u001b[0m\u001b[0;34m\u001b[0m\u001b[0m\n\u001b[1;32m      4\u001b[0m \u001b[0mstart\u001b[0m\u001b[0;34m=\u001b[0m\u001b[0;34m'2016-10-01'\u001b[0m\u001b[0;34m\u001b[0m\u001b[0m\n\u001b[1;32m      5\u001b[0m \u001b[0mend\u001b[0m\u001b[0;34m=\u001b[0m\u001b[0;34m'2016-10-02'\u001b[0m\u001b[0;34m\u001b[0m\u001b[0m\n",
      "\u001b[0;32m<ipython-input-74-147532311a8c>\u001b[0m in \u001b[0;36mdefinePQ\u001b[0;34m(data)\u001b[0m\n\u001b[1;32m     23\u001b[0m \u001b[0;34m\u001b[0m\u001b[0m\n\u001b[1;32m     24\u001b[0m     \u001b[0;31m#先用stack展平，然后用idxmin找出最小值位置。\u001b[0m\u001b[0;34m\u001b[0m\u001b[0;34m\u001b[0m\u001b[0m\n\u001b[0;32m---> 25\u001b[0;31m     \u001b[0mp\u001b[0m\u001b[0;34m,\u001b[0m\u001b[0mq\u001b[0m \u001b[0;34m=\u001b[0m \u001b[0mbic_matrix\u001b[0m\u001b[0;34m.\u001b[0m\u001b[0mstack\u001b[0m\u001b[0;34m(\u001b[0m\u001b[0;34m)\u001b[0m\u001b[0;34m.\u001b[0m\u001b[0midxmin\u001b[0m\u001b[0;34m(\u001b[0m\u001b[0;34m)\u001b[0m\u001b[0;34m\u001b[0m\u001b[0m\n\u001b[0m\u001b[1;32m     26\u001b[0m \u001b[0;34m\u001b[0m\u001b[0m\n\u001b[1;32m     27\u001b[0m     \u001b[0;32mprint\u001b[0m\u001b[0;34m(\u001b[0m\u001b[0;34mu'BIC最小的p值和q值为：%s、%s'\u001b[0m \u001b[0;34m%\u001b[0m\u001b[0;34m(\u001b[0m\u001b[0mp\u001b[0m\u001b[0;34m,\u001b[0m\u001b[0mq\u001b[0m\u001b[0;34m)\u001b[0m\u001b[0;34m)\u001b[0m\u001b[0;34m\u001b[0m\u001b[0m\n",
      "\u001b[0;32m/Users/holazhai/anaconda/lib/python2.7/site-packages/pandas/core/series.pyc\u001b[0m in \u001b[0;36midxmin\u001b[0;34m(self, axis, skipna, *args, **kwargs)\u001b[0m\n\u001b[1;32m   1244\u001b[0m         \"\"\"\n\u001b[1;32m   1245\u001b[0m         \u001b[0mskipna\u001b[0m \u001b[0;34m=\u001b[0m \u001b[0mnv\u001b[0m\u001b[0;34m.\u001b[0m\u001b[0mvalidate_argmin_with_skipna\u001b[0m\u001b[0;34m(\u001b[0m\u001b[0mskipna\u001b[0m\u001b[0;34m,\u001b[0m \u001b[0margs\u001b[0m\u001b[0;34m,\u001b[0m \u001b[0mkwargs\u001b[0m\u001b[0;34m)\u001b[0m\u001b[0;34m\u001b[0m\u001b[0m\n\u001b[0;32m-> 1246\u001b[0;31m         \u001b[0mi\u001b[0m \u001b[0;34m=\u001b[0m \u001b[0mnanops\u001b[0m\u001b[0;34m.\u001b[0m\u001b[0mnanargmin\u001b[0m\u001b[0;34m(\u001b[0m\u001b[0m_values_from_object\u001b[0m\u001b[0;34m(\u001b[0m\u001b[0mself\u001b[0m\u001b[0;34m)\u001b[0m\u001b[0;34m,\u001b[0m \u001b[0mskipna\u001b[0m\u001b[0;34m=\u001b[0m\u001b[0mskipna\u001b[0m\u001b[0;34m)\u001b[0m\u001b[0;34m\u001b[0m\u001b[0m\n\u001b[0m\u001b[1;32m   1247\u001b[0m         \u001b[0;32mif\u001b[0m \u001b[0mi\u001b[0m \u001b[0;34m==\u001b[0m \u001b[0;34m-\u001b[0m\u001b[0;36m1\u001b[0m\u001b[0;34m:\u001b[0m\u001b[0;34m\u001b[0m\u001b[0m\n\u001b[1;32m   1248\u001b[0m             \u001b[0;32mreturn\u001b[0m \u001b[0mnp\u001b[0m\u001b[0;34m.\u001b[0m\u001b[0mnan\u001b[0m\u001b[0;34m\u001b[0m\u001b[0m\n",
      "\u001b[0;32m/Users/holazhai/anaconda/lib/python2.7/site-packages/pandas/core/nanops.pyc\u001b[0m in \u001b[0;36mnanargmin\u001b[0;34m(values, axis, skipna)\u001b[0m\n\u001b[1;32m    468\u001b[0m     values, mask, dtype, _ = _get_values(values, skipna, fill_value_typ='+inf',\n\u001b[1;32m    469\u001b[0m                                          isfinite=True)\n\u001b[0;32m--> 470\u001b[0;31m     \u001b[0mresult\u001b[0m \u001b[0;34m=\u001b[0m \u001b[0mvalues\u001b[0m\u001b[0;34m.\u001b[0m\u001b[0margmin\u001b[0m\u001b[0;34m(\u001b[0m\u001b[0maxis\u001b[0m\u001b[0;34m)\u001b[0m\u001b[0;34m\u001b[0m\u001b[0m\n\u001b[0m\u001b[1;32m    471\u001b[0m     \u001b[0mresult\u001b[0m \u001b[0;34m=\u001b[0m \u001b[0m_maybe_arg_null_out\u001b[0m\u001b[0;34m(\u001b[0m\u001b[0mresult\u001b[0m\u001b[0;34m,\u001b[0m \u001b[0maxis\u001b[0m\u001b[0;34m,\u001b[0m \u001b[0mmask\u001b[0m\u001b[0;34m,\u001b[0m \u001b[0mskipna\u001b[0m\u001b[0;34m)\u001b[0m\u001b[0;34m\u001b[0m\u001b[0m\n\u001b[1;32m    472\u001b[0m     \u001b[0;32mreturn\u001b[0m \u001b[0mresult\u001b[0m\u001b[0;34m\u001b[0m\u001b[0m\n",
      "\u001b[0;31mValueError\u001b[0m: attempt to get argmin of an empty sequence"
     ]
    }
   ],
   "source": [
    "print type(data)\n",
    "p,q = definePQ(data)\n",
    "model = ARIMA(data, (p,1,q)).fit()\n",
    "start='2016-10-01'\n",
    "end='2016-10-02'\n",
    "result = model.predict(start=start,end=end,typ='levels')\n",
    "result = np.exp(result)\n",
    "\n",
    "print result\n"
   ]
  },
  {
   "cell_type": "code",
   "execution_count": 44,
   "metadata": {
    "collapsed": false
   },
   "outputs": [
    {
     "name": "stdout",
     "output_type": "stream",
     "text": [
      "vDay\n",
      "2016-10-01    126\n",
      "2016-10-02    112\n",
      "2016-10-03    119\n",
      "2016-10-04    111\n",
      "2016-10-05    114\n",
      "Name: cnt, dtype: int64\n"
     ]
    }
   ],
   "source": [
    "print ts['2016-10'].head(5)"
   ]
  },
  {
   "cell_type": "code",
   "execution_count": null,
   "metadata": {
    "collapsed": true
   },
   "outputs": [],
   "source": []
  }
 ],
 "metadata": {
  "anaconda-cloud": {},
  "kernelspec": {
   "display_name": "Python [Root]",
   "language": "python",
   "name": "Python [Root]"
  },
  "language_info": {
   "codemirror_mode": {
    "name": "ipython",
    "version": 2
   },
   "file_extension": ".py",
   "mimetype": "text/x-python",
   "name": "python",
   "nbconvert_exporter": "python",
   "pygments_lexer": "ipython2",
   "version": "2.7.12"
  }
 },
 "nbformat": 4,
 "nbformat_minor": 0
}
