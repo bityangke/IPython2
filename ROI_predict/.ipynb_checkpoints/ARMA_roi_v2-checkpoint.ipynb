{
 "cells": [
  {
   "cell_type": "code",
   "execution_count": 73,
   "metadata": {
    "collapsed": true
   },
   "outputs": [],
   "source": [
    "# -*-coding:utf-8-*-\n",
    "%matplotlib inline\n",
    "import pandas as pd\n",
    "import numpy as np\n",
    "from statsmodels.tsa.arima_model import ARMA\n",
    "import sys\n",
    "from dateutil.relativedelta import relativedelta\n",
    "from copy import deepcopy\n",
    "import matplotlib.pyplot as plt\n",
    "\n",
    "#参考 http://www.cnblogs.com/foley/p/5582358.html"
   ]
  },
  {
   "cell_type": "code",
   "execution_count": 74,
   "metadata": {
    "collapsed": true
   },
   "outputs": [],
   "source": [
    "logPath =\"/Users/holazhai/Documents/workspace/readshift/result_uniq_sort_ha_holaverse_int_ts.log\"\n",
    "windowSize = 7"
   ]
  },
  {
   "cell_type": "code",
   "execution_count": 70,
   "metadata": {
    "collapsed": true
   },
   "outputs": [],
   "source": [
    "class arima_model:\n",
    "\n",
    "    def __init__(self, ts, maxLag=9):\n",
    "        self.data_ts = ts\n",
    "        self.resid_ts = None\n",
    "        self.predict_ts = None\n",
    "        self.maxLag = maxLag\n",
    "        self.p = maxLag\n",
    "        self.q = maxLag\n",
    "        self.properModel = None\n",
    "        self.bic = sys.maxint\n",
    "\n",
    "    # 计算最优ARIMA模型，将相关结果赋给相应属性\n",
    "    def get_proper_model(self):\n",
    "        self._proper_model()\n",
    "        self.predict_ts = deepcopy(self.properModel.predict())\n",
    "        self.resid_ts = deepcopy(self.properModel.resid)\n",
    "\n",
    "    # 对于给定范围内的p,q计算拟合得最好的arima模型，这里是对差分好的数据进行拟合，故差分恒为0\n",
    "    def _proper_model(self):\n",
    "        for p in np.arange(self.maxLag):\n",
    "            for q in np.arange(self.maxLag):\n",
    "                # print p,q,self.bic\n",
    "                model = ARMA(self.data_ts, order=(p, q))\n",
    "                try:\n",
    "                    results_ARMA = model.fit(disp=-1, method='css')\n",
    "                except:\n",
    "                    continue\n",
    "                bic = results_ARMA.bic\n",
    "                # print 'bic:',bic,'self.bic:',self.bic\n",
    "                if bic < self.bic:\n",
    "                    self.p = p\n",
    "                    self.q = q\n",
    "                    self.properModel = results_ARMA\n",
    "                    self.bic = bic\n",
    "                    self.resid_ts = deepcopy(self.properModel.resid)\n",
    "                    self.predict_ts = self.properModel.predict()\n",
    "\n",
    "    # 参数确定模型\n",
    "    def certain_model(self, p, q):\n",
    "            model = ARMA(self.data_ts, order=(p, q))\n",
    "            try:\n",
    "                self.properModel = model.fit( disp=-1, method='css')\n",
    "                self.p = p\n",
    "                self.q = q\n",
    "                self.bic = self.properModel.bic\n",
    "                self.predict_ts = self.properModel.predict()\n",
    "                self.resid_ts = deepcopy(self.properModel.resid)\n",
    "            except:\n",
    "                print 'You can not fit the model with this parameter p,q, ' \\\n",
    "                      'please use the get_proper_model method to get the best model'\n",
    "\n",
    "    # 预测第二日的值\n",
    "    def forecast_next_day_value(self, type='day'):\n",
    "        # 我修改了statsmodels包中arima_model的源代码，添加了constant属性，需要先运行forecast方法，为constant赋值\n",
    "        self.properModel.forecast()\n",
    "        print self.properModel.forecast()\n",
    "        if self.data_ts.index[-1] != self.resid_ts.index[-1]:\n",
    "            raise ValueError('''The index is different in data_ts and resid_ts, please add new data to data_ts.\n",
    "            If you just want to forecast the next day data without add the real next day data to data_ts,\n",
    "            please run the predict method which arima_model included itself''')\n",
    "        if not self.properModel:\n",
    "            raise ValueError('The arima model have not computed, please run the proper_model method before')\n",
    "        para = self.properModel.params\n",
    "\n",
    "        # print self.properModel.params\n",
    "        if self.p == 0:   # It will get all the value series with setting self.data_ts[-self.p:] when p is zero\n",
    "            ma_value = self.resid_ts[-self.q:]\n",
    "            values = ma_value.reindex(index=ma_value.index[::-1])\n",
    "        elif self.q == 0:\n",
    "            ar_value = self.data_ts[-self.p:]\n",
    "            values = ar_value.reindex(index=ar_value.index[::-1])\n",
    "        else:\n",
    "            ar_value = self.data_ts[-self.p:]\n",
    "            ar_value = ar_value.reindex(index=ar_value.index[::-1])\n",
    "            ma_value = self.resid_ts[-self.q:]\n",
    "            ma_value = ma_value.reindex(index=ma_value.index[::-1])\n",
    "            values = ar_value.append(ma_value)\n",
    "\n",
    "        #predict_value = np.dot(para[1:], values) + self.properModel.constant[0]\n",
    "        predict_value = np.dot(para[1:], values)\n",
    "        self._add_new_data(self.predict_ts, predict_value, type)\n",
    "        return predict_value\n",
    "\n",
    "    # 动态添加数据函数，针对索引是月份和日分别进行处理\n",
    "    def _add_new_data(self, ts, dat, type='day'):\n",
    "        if type == 'day':\n",
    "            new_index = ts.index[-1] + relativedelta(days=1)\n",
    "        elif type == 'month':\n",
    "            new_index = ts.index[-1] + relativedelta(months=1)\n",
    "        ts[new_index] = dat\n",
    "        \n",
    "\n",
    "    def add_today_data(self, dat, type='day'):\n",
    "        self._add_new_data(self.data_ts, dat, type)\n",
    "        if self.data_ts.index[-1] != self.predict_ts.index[-1]:\n",
    "            raise ValueError('You must use the forecast_next_day_value method forecast the value of today before')\n",
    "        self._add_new_data(self.resid_ts, self.data_ts[-1] - self.predict_ts[-1], type)"
   ]
  },
  {
   "cell_type": "code",
   "execution_count": 41,
   "metadata": {
    "collapsed": true
   },
   "outputs": [],
   "source": [
    "def dfSplit(line):\n",
    "    return line.split('#')[1]\n",
    "\n",
    "# 差分操作\n",
    "def diff_ts(ts, d):\n",
    "    global shift_ts_list\n",
    "    #  动态预测第二日的值时所需要的差分序列\n",
    "    global last_data_shift_list\n",
    "    shift_ts_list = []\n",
    "    last_data_shift_list = []\n",
    "    tmp_ts = ts\n",
    "    for i in d:\n",
    "        last_data_shift_list.append(tmp_ts[-i])\n",
    "        print last_data_shift_list\n",
    "        shift_ts = tmp_ts.shift(i)\n",
    "        shift_ts_list.append(shift_ts)\n",
    "        tmp_ts = tmp_ts - shift_ts\n",
    "    tmp_ts.dropna(inplace=True)\n",
    "    return tmp_ts\n",
    "\n",
    "# 还原操作\n",
    "def predict_diff_recover(predict_value, d):\n",
    "    if isinstance(predict_value, float):\n",
    "        tmp_data = predict_value\n",
    "        for i in range(len(d)):\n",
    "            tmp_data = tmp_data + last_data_shift_list[-i-1]\n",
    "    elif isinstance(predict_value, np.ndarray):\n",
    "        tmp_data = predict_value[0]\n",
    "        for i in range(len(d)):\n",
    "            tmp_data = tmp_data + last_data_shift_list[-i-1]\n",
    "    else:\n",
    "        tmp_data = predict_value\n",
    "        for i in range(len(d)):\n",
    "            try:\n",
    "                tmp_data = tmp_data.add(shift_ts_list[-i-1])\n",
    "            except:\n",
    "                raise ValueError('What you input is not pd.Series type!')\n",
    "        tmp_data.dropna(inplace=True)\n",
    "    return tmp_data"
   ]
  },
  {
   "cell_type": "code",
   "execution_count": 20,
   "metadata": {
    "collapsed": true
   },
   "outputs": [],
   "source": [
    "colname = ['visitDay', 'cnt']\n",
    "df = pd.read_table(logPath,sep=' ',names=colname,encoding='utf-8')\n",
    "df['vDay']=df['visitDay'].apply(dfSplit)\n",
    "\n",
    "df.index=df['vDay']\n",
    "df.index = pd.to_datetime(df['vDay'])\n",
    "ts = df['cnt']\n",
    "ts = ts['2016-07':'2016-10']"
   ]
  },
  {
   "cell_type": "code",
   "execution_count": 47,
   "metadata": {
    "collapsed": false
   },
   "outputs": [],
   "source": [
    "# 数据预处理\n",
    "ts_log = np.log(ts)\n",
    "rol_mean = ts_log.rolling(window=windowSize).mean()\n",
    "rol_mean.dropna(inplace=True)\n",
    "ts_diff_1 = rol_mean.diff(1)\n",
    "ts_diff_1.dropna(inplace=True)\n",
    "ts_diff_2 = ts_diff_1.diff(1)\n",
    "ts_diff_2.dropna(inplace=True)\n",
    "\n",
    "#另一种数据预处理方式\n",
    "#diffed_ts = diff_ts(rol_mean, d=[windowSize, 1])"
   ]
  },
  {
   "cell_type": "code",
   "execution_count": 48,
   "metadata": {
    "collapsed": false
   },
   "outputs": [
    {
     "name": "stderr",
     "output_type": "stream",
     "text": [
      "/Users/holazhai/anaconda/lib/python2.7/site-packages/statsmodels/base/model.py:466: ConvergenceWarning: Maximum Likelihood optimization failed to converge. Check mle_retvals\n",
      "  \"Check mle_retvals\", ConvergenceWarning)\n",
      "/Users/holazhai/anaconda/lib/python2.7/site-packages/statsmodels/base/model.py:466: ConvergenceWarning: Maximum Likelihood optimization failed to converge. Check mle_retvals\n",
      "  \"Check mle_retvals\", ConvergenceWarning)\n",
      "/Users/holazhai/anaconda/lib/python2.7/site-packages/statsmodels/base/model.py:466: ConvergenceWarning: Maximum Likelihood optimization failed to converge. Check mle_retvals\n",
      "  \"Check mle_retvals\", ConvergenceWarning)\n",
      "/Users/holazhai/anaconda/lib/python2.7/site-packages/statsmodels/base/model.py:466: ConvergenceWarning: Maximum Likelihood optimization failed to converge. Check mle_retvals\n",
      "  \"Check mle_retvals\", ConvergenceWarning)\n",
      "/Users/holazhai/anaconda/lib/python2.7/site-packages/statsmodels/base/model.py:466: ConvergenceWarning: Maximum Likelihood optimization failed to converge. Check mle_retvals\n",
      "  \"Check mle_retvals\", ConvergenceWarning)\n",
      "/Users/holazhai/anaconda/lib/python2.7/site-packages/statsmodels/base/model.py:466: ConvergenceWarning: Maximum Likelihood optimization failed to converge. Check mle_retvals\n",
      "  \"Check mle_retvals\", ConvergenceWarning)\n",
      "/Users/holazhai/anaconda/lib/python2.7/site-packages/statsmodels/base/model.py:466: ConvergenceWarning: Maximum Likelihood optimization failed to converge. Check mle_retvals\n",
      "  \"Check mle_retvals\", ConvergenceWarning)\n",
      "/Users/holazhai/anaconda/lib/python2.7/site-packages/statsmodels/base/model.py:466: ConvergenceWarning: Maximum Likelihood optimization failed to converge. Check mle_retvals\n",
      "  \"Check mle_retvals\", ConvergenceWarning)\n",
      "/Users/holazhai/anaconda/lib/python2.7/site-packages/statsmodels/base/model.py:466: ConvergenceWarning: Maximum Likelihood optimization failed to converge. Check mle_retvals\n",
      "  \"Check mle_retvals\", ConvergenceWarning)\n",
      "/Users/holazhai/anaconda/lib/python2.7/site-packages/statsmodels/base/model.py:466: ConvergenceWarning: Maximum Likelihood optimization failed to converge. Check mle_retvals\n",
      "  \"Check mle_retvals\", ConvergenceWarning)\n",
      "/Users/holazhai/anaconda/lib/python2.7/site-packages/statsmodels/base/model.py:466: ConvergenceWarning: Maximum Likelihood optimization failed to converge. Check mle_retvals\n",
      "  \"Check mle_retvals\", ConvergenceWarning)\n",
      "/Users/holazhai/anaconda/lib/python2.7/site-packages/statsmodels/base/model.py:466: ConvergenceWarning: Maximum Likelihood optimization failed to converge. Check mle_retvals\n",
      "  \"Check mle_retvals\", ConvergenceWarning)\n",
      "/Users/holazhai/anaconda/lib/python2.7/site-packages/statsmodels/base/model.py:466: ConvergenceWarning: Maximum Likelihood optimization failed to converge. Check mle_retvals\n",
      "  \"Check mle_retvals\", ConvergenceWarning)\n",
      "/Users/holazhai/anaconda/lib/python2.7/site-packages/statsmodels/base/model.py:466: ConvergenceWarning: Maximum Likelihood optimization failed to converge. Check mle_retvals\n",
      "  \"Check mle_retvals\", ConvergenceWarning)\n",
      "/Users/holazhai/anaconda/lib/python2.7/site-packages/statsmodels/base/model.py:466: ConvergenceWarning: Maximum Likelihood optimization failed to converge. Check mle_retvals\n",
      "  \"Check mle_retvals\", ConvergenceWarning)\n",
      "/Users/holazhai/anaconda/lib/python2.7/site-packages/statsmodels/base/model.py:466: ConvergenceWarning: Maximum Likelihood optimization failed to converge. Check mle_retvals\n",
      "  \"Check mle_retvals\", ConvergenceWarning)\n",
      "/Users/holazhai/anaconda/lib/python2.7/site-packages/statsmodels/base/model.py:466: ConvergenceWarning: Maximum Likelihood optimization failed to converge. Check mle_retvals\n",
      "  \"Check mle_retvals\", ConvergenceWarning)\n",
      "/Users/holazhai/anaconda/lib/python2.7/site-packages/statsmodels/base/model.py:466: ConvergenceWarning: Maximum Likelihood optimization failed to converge. Check mle_retvals\n",
      "  \"Check mle_retvals\", ConvergenceWarning)\n",
      "/Users/holazhai/anaconda/lib/python2.7/site-packages/statsmodels/base/model.py:466: ConvergenceWarning: Maximum Likelihood optimization failed to converge. Check mle_retvals\n",
      "  \"Check mle_retvals\", ConvergenceWarning)\n",
      "/Users/holazhai/anaconda/lib/python2.7/site-packages/statsmodels/base/model.py:466: ConvergenceWarning: Maximum Likelihood optimization failed to converge. Check mle_retvals\n",
      "  \"Check mle_retvals\", ConvergenceWarning)\n",
      "/Users/holazhai/anaconda/lib/python2.7/site-packages/statsmodels/base/model.py:466: ConvergenceWarning: Maximum Likelihood optimization failed to converge. Check mle_retvals\n",
      "  \"Check mle_retvals\", ConvergenceWarning)\n",
      "/Users/holazhai/anaconda/lib/python2.7/site-packages/statsmodels/base/model.py:466: ConvergenceWarning: Maximum Likelihood optimization failed to converge. Check mle_retvals\n",
      "  \"Check mle_retvals\", ConvergenceWarning)\n",
      "/Users/holazhai/anaconda/lib/python2.7/site-packages/statsmodels/base/model.py:466: ConvergenceWarning: Maximum Likelihood optimization failed to converge. Check mle_retvals\n",
      "  \"Check mle_retvals\", ConvergenceWarning)\n",
      "/Users/holazhai/anaconda/lib/python2.7/site-packages/statsmodels/base/model.py:466: ConvergenceWarning: Maximum Likelihood optimization failed to converge. Check mle_retvals\n",
      "  \"Check mle_retvals\", ConvergenceWarning)\n",
      "/Users/holazhai/anaconda/lib/python2.7/site-packages/statsmodels/base/model.py:466: ConvergenceWarning: Maximum Likelihood optimization failed to converge. Check mle_retvals\n",
      "  \"Check mle_retvals\", ConvergenceWarning)\n",
      "/Users/holazhai/anaconda/lib/python2.7/site-packages/statsmodels/base/model.py:466: ConvergenceWarning: Maximum Likelihood optimization failed to converge. Check mle_retvals\n",
      "  \"Check mle_retvals\", ConvergenceWarning)\n",
      "/Users/holazhai/anaconda/lib/python2.7/site-packages/statsmodels/base/model.py:466: ConvergenceWarning: Maximum Likelihood optimization failed to converge. Check mle_retvals\n",
      "  \"Check mle_retvals\", ConvergenceWarning)\n",
      "/Users/holazhai/anaconda/lib/python2.7/site-packages/statsmodels/base/model.py:466: ConvergenceWarning: Maximum Likelihood optimization failed to converge. Check mle_retvals\n",
      "  \"Check mle_retvals\", ConvergenceWarning)\n",
      "/Users/holazhai/anaconda/lib/python2.7/site-packages/statsmodels/base/model.py:466: ConvergenceWarning: Maximum Likelihood optimization failed to converge. Check mle_retvals\n",
      "  \"Check mle_retvals\", ConvergenceWarning)\n",
      "/Users/holazhai/anaconda/lib/python2.7/site-packages/statsmodels/base/model.py:466: ConvergenceWarning: Maximum Likelihood optimization failed to converge. Check mle_retvals\n",
      "  \"Check mle_retvals\", ConvergenceWarning)\n",
      "/Users/holazhai/anaconda/lib/python2.7/site-packages/statsmodels/base/model.py:466: ConvergenceWarning: Maximum Likelihood optimization failed to converge. Check mle_retvals\n",
      "  \"Check mle_retvals\", ConvergenceWarning)\n",
      "/Users/holazhai/anaconda/lib/python2.7/site-packages/statsmodels/base/model.py:466: ConvergenceWarning: Maximum Likelihood optimization failed to converge. Check mle_retvals\n",
      "  \"Check mle_retvals\", ConvergenceWarning)\n",
      "/Users/holazhai/anaconda/lib/python2.7/site-packages/statsmodels/base/model.py:466: ConvergenceWarning: Maximum Likelihood optimization failed to converge. Check mle_retvals\n",
      "  \"Check mle_retvals\", ConvergenceWarning)\n",
      "/Users/holazhai/anaconda/lib/python2.7/site-packages/statsmodels/base/model.py:466: ConvergenceWarning: Maximum Likelihood optimization failed to converge. Check mle_retvals\n",
      "  \"Check mle_retvals\", ConvergenceWarning)\n",
      "/Users/holazhai/anaconda/lib/python2.7/site-packages/statsmodels/base/model.py:466: ConvergenceWarning: Maximum Likelihood optimization failed to converge. Check mle_retvals\n",
      "  \"Check mle_retvals\", ConvergenceWarning)\n"
     ]
    },
    {
     "name": "stdout",
     "output_type": "stream",
     "text": [
      "bic: -323.252733214 p: 0 q: 2\n",
      "[-0.02223248]\n"
     ]
    },
    {
     "name": "stderr",
     "output_type": "stream",
     "text": [
      "/Users/holazhai/anaconda/lib/python2.7/site-packages/statsmodels/base/model.py:466: ConvergenceWarning: Maximum Likelihood optimization failed to converge. Check mle_retvals\n",
      "  \"Check mle_retvals\", ConvergenceWarning)\n"
     ]
    }
   ],
   "source": [
    "# 模型拟合\n",
    "model = arima_model(ts_diff_2)\n",
    "#  这里使用模型参数自动识别\n",
    "model.get_proper_model()\n",
    "print 'bic:', model.bic, 'p:', model.p, 'q:', model.q\n",
    "print model.properModel.forecast()[0]\n",
    "#print model.forecast_next_day_value(type='day')"
   ]
  },
  {
   "cell_type": "code",
   "execution_count": 23,
   "metadata": {
    "collapsed": false
   },
   "outputs": [],
   "source": [
    "# 预测结果还原\n",
    "predict_ts = model.properModel.predict()\n",
    "diff_shift_ts = ts_diff_1.shift(1)\n",
    "diff_recover_1 = predict_ts.add(diff_shift_ts)\n",
    "rol_shift_ts = rol_mean.shift(1)\n",
    "diff_recover = diff_recover_1.add(rol_shift_ts)\n",
    "rol_sum = ts_log.rolling(window=(windowSize-1)).sum()\n",
    "rol_recover = diff_recover*windowSize - rol_sum.shift(1)\n",
    "log_recover = np.exp(rol_recover)\n",
    "log_recover.dropna(inplace=True)\n"
   ]
  },
  {
   "cell_type": "code",
   "execution_count": 24,
   "metadata": {
    "collapsed": false
   },
   "outputs": [
    {
     "data": {
      "image/png": "[encoded data removed]",
      "text/plain": [
       "<matplotlib.figure.Figure at 0x1145cbd50>"
      ]
     },
     "metadata": {},
     "output_type": "display_data"
    }
   ],
   "source": [
    "# 预测结果作图\n",
    "ts = ts[log_recover.index]\n",
    "plt.figure(facecolor='white')\n",
    "log_recover.plot(color='blue', label='Predict')\n",
    "ts.plot(color='red', label='Original')\n",
    "plt.legend(loc='best')\n",
    "plt.title('RMSE: %.4f'% np.sqrt(sum((log_recover-ts)**2)/ts.size))\n",
    "plt.show()"
   ]
  },
  {
   "cell_type": "code",
   "execution_count": 72,
   "metadata": {
    "collapsed": false
   },
   "outputs": [
    {
     "name": "stdout",
     "output_type": "stream",
     "text": [
      "(array([-0.02223248]), array([ 0.0302738]), array([[-0.08156803,  0.03710307]]))\n",
      "-0.022428159088\n",
      "2016-08-11    0.000196\n",
      "2016-08-12   -0.003262\n",
      "2016-08-13   -0.008184\n",
      "2016-08-14   -0.012845\n",
      "2016-08-15   -0.011798\n",
      "2016-08-16    0.000172\n",
      "2016-08-17   -0.010708\n",
      "2016-08-18   -0.018841\n",
      "2016-08-19   -0.019742\n",
      "2016-08-20   -0.009823\n",
      "2016-08-21    0.001560\n",
      "2016-08-22    0.022855\n",
      "2016-08-23    0.014152\n",
      "2016-08-24   -0.006049\n",
      "2016-08-25    0.030777\n",
      "2016-08-26    0.018425\n",
      "2016-08-27   -0.005140\n",
      "2016-08-28    0.005794\n",
      "2016-08-29    0.004109\n",
      "2016-08-30   -0.007885\n",
      "2016-08-31   -0.003217\n",
      "2016-09-01   -0.031977\n",
      "2016-09-02   -0.022144\n",
      "2016-09-03    0.024932\n",
      "2016-09-04    0.039438\n",
      "2016-09-05    0.016571\n",
      "2016-09-06    0.002319\n",
      "2016-09-07    0.012441\n",
      "2016-09-08    0.021737\n",
      "2016-09-09    0.012452\n",
      "                ...   \n",
      "2016-10-07    0.000882\n",
      "2016-10-08    0.054315\n",
      "2016-10-09    0.070552\n",
      "2016-10-10    0.052574\n",
      "2016-10-11    0.022381\n",
      "2016-10-12   -0.000087\n",
      "2016-10-13   -0.001765\n",
      "2016-10-14    0.003343\n",
      "2016-10-15   -0.041225\n",
      "2016-10-16   -0.068221\n",
      "2016-10-17   -0.049944\n",
      "2016-10-18   -0.014194\n",
      "2016-10-19    0.002486\n",
      "2016-10-20    0.004067\n",
      "2016-10-21   -0.009525\n",
      "2016-10-22   -0.031229\n",
      "2016-10-23   -0.010680\n",
      "2016-10-24    0.028069\n",
      "2016-10-25    0.045674\n",
      "2016-10-26    0.022912\n",
      "2016-10-27   -0.010642\n",
      "2016-10-28   -0.010036\n",
      "2016-10-29    0.012707\n",
      "2016-10-30    0.013999\n",
      "2016-10-31   -0.031039\n",
      "2016-11-01   -0.022428\n",
      "2016-11-02   -0.022428\n",
      "2016-11-03   -0.022428\n",
      "2016-11-04   -0.022428\n",
      "2016-11-05   -0.022428\n",
      "Freq: D, dtype: float64\n"
     ]
    }
   ],
   "source": [
    "print model.forecast_next_day_value(type='day')\n",
    "print model.predict_ts"
   ]
  },
  {
   "cell_type": "code",
   "execution_count": 65,
   "metadata": {
    "collapsed": false
   },
   "outputs": [
    {
     "name": "stdout",
     "output_type": "stream",
     "text": [
      "2016-08-10   -0.024846\n",
      "2016-08-11   -0.017943\n",
      "2016-08-12   -0.011254\n",
      "2016-08-13   -0.003495\n",
      "2016-08-14   -0.008057\n",
      "2016-08-15   -0.027592\n",
      "2016-08-16    0.000999\n",
      "2016-08-17    0.000511\n",
      "2016-08-18    0.010739\n",
      "2016-08-19   -0.016885\n",
      "2016-08-20   -0.021948\n",
      "2016-08-21   -0.068811\n",
      "2016-08-22   -0.027526\n",
      "2016-08-23   -0.018579\n",
      "2016-08-24   -0.079055\n",
      "2016-08-25   -0.032495\n",
      "2016-08-26   -0.018550\n",
      "2016-08-27   -0.030339\n",
      "2016-08-28   -0.025888\n",
      "2016-08-29   -0.004843\n",
      "2016-08-30   -0.022022\n",
      "2016-08-31    0.045896\n",
      "2016-09-01   -0.009591\n",
      "2016-09-02   -0.057624\n",
      "2016-09-03   -0.084481\n",
      "2016-09-04   -0.028143\n",
      "2016-09-05   -0.031570\n",
      "2016-09-06   -0.034211\n",
      "2016-09-07   -0.058892\n",
      "2016-09-08   -0.026046\n",
      "                ...   \n",
      "2016-10-02   -0.037873\n",
      "2016-10-03   -0.009295\n",
      "2016-10-04   -0.025831\n",
      "2016-10-05   -0.002485\n",
      "2016-10-06   -0.024403\n",
      "2016-10-07   -0.109050\n",
      "2016-10-08   -0.110834\n",
      "2016-10-09   -0.089165\n",
      "2016-10-10   -0.033690\n",
      "2016-10-11   -0.013487\n",
      "2016-10-12   -0.007724\n",
      "2016-10-13   -0.021091\n",
      "2016-10-14    0.073494\n",
      "2016-10-15    0.079240\n",
      "2016-10-16    0.064136\n",
      "2016-10-17   -0.007808\n",
      "2016-10-18   -0.005773\n",
      "2016-10-19   -0.026046\n",
      "2016-10-20    0.018262\n",
      "2016-10-21    0.031878\n",
      "2016-10-22    0.000000\n",
      "2016-10-23   -0.064136\n",
      "2016-10-24   -0.074049\n",
      "2016-10-25   -0.036746\n",
      "2016-10-26    0.015052\n",
      "2016-10-27   -0.002886\n",
      "2016-10-28   -0.030333\n",
      "2016-10-29   -0.028040\n",
      "2016-10-30    0.056327\n",
      "2016-10-31    0.002670\n",
      "Name: cnt, dtype: float64\n",
      "2016-08-10         NaN\n",
      "2016-08-11   -0.024846\n",
      "2016-08-12   -0.017943\n",
      "2016-08-13   -0.011254\n",
      "2016-08-14   -0.003495\n",
      "2016-08-15   -0.008057\n",
      "2016-08-16   -0.027592\n",
      "2016-08-17    0.000999\n",
      "2016-08-18    0.000511\n",
      "2016-08-19    0.010739\n",
      "2016-08-20   -0.016885\n",
      "2016-08-21   -0.021948\n",
      "2016-08-22   -0.068811\n",
      "2016-08-23   -0.027526\n",
      "2016-08-24   -0.018579\n",
      "2016-08-25   -0.079055\n",
      "2016-08-26   -0.032495\n",
      "2016-08-27   -0.018550\n",
      "2016-08-28   -0.030339\n",
      "2016-08-29   -0.025888\n",
      "2016-08-30   -0.004843\n",
      "2016-08-31   -0.022022\n",
      "2016-09-01    0.045896\n",
      "2016-09-02   -0.009591\n",
      "2016-09-03   -0.057624\n",
      "2016-09-04   -0.084481\n",
      "2016-09-05   -0.028143\n",
      "2016-09-06   -0.031570\n",
      "2016-09-07   -0.034211\n",
      "2016-09-08   -0.058892\n",
      "                ...   \n",
      "2016-10-02   -0.019076\n",
      "2016-10-03   -0.037873\n",
      "2016-10-04   -0.009295\n",
      "2016-10-05   -0.025831\n",
      "2016-10-06   -0.002485\n",
      "2016-10-07   -0.024403\n",
      "2016-10-08   -0.109050\n",
      "2016-10-09   -0.110834\n",
      "2016-10-10   -0.089165\n",
      "2016-10-11   -0.033690\n",
      "2016-10-12   -0.013487\n",
      "2016-10-13   -0.007724\n",
      "2016-10-14   -0.021091\n",
      "2016-10-15    0.073494\n",
      "2016-10-16    0.079240\n",
      "2016-10-17    0.064136\n",
      "2016-10-18   -0.007808\n",
      "2016-10-19   -0.005773\n",
      "2016-10-20   -0.026046\n",
      "2016-10-21    0.018262\n",
      "2016-10-22    0.031878\n",
      "2016-10-23    0.000000\n",
      "2016-10-24   -0.064136\n",
      "2016-10-25   -0.074049\n",
      "2016-10-26   -0.036746\n",
      "2016-10-27    0.015052\n",
      "2016-10-28   -0.002886\n",
      "2016-10-29   -0.030333\n",
      "2016-10-30   -0.028040\n",
      "2016-10-31    0.056327\n",
      "Name: cnt, dtype: float64\n"
     ]
    }
   ],
   "source": [
    "print ts_diff_1\n",
    "print ts_diff_1.shift(1)"
   ]
  },
  {
   "cell_type": "code",
   "execution_count": 66,
   "metadata": {
    "collapsed": true
   },
   "outputs": [],
   "source": [
    "tstest = ts"
   ]
  },
  {
   "cell_type": "code",
   "execution_count": 67,
   "metadata": {
    "collapsed": false
   },
   "outputs": [
    {
     "data": {
      "text/plain": [
       "(array([-0.02223248]),\n",
       " array([ 0.0302738]),\n",
       " array([[-0.08156803,  0.03710307]]))"
      ]
     },
     "execution_count": 67,
     "metadata": {},
     "output_type": "execute_result"
    }
   ],
   "source": [
    "model.properModel.forecast(1)"
   ]
  },
  {
   "cell_type": "code",
   "execution_count": null,
   "metadata": {
    "collapsed": true
   },
   "outputs": [],
   "source": []
  },
  {
   "cell_type": "code",
   "execution_count": null,
   "metadata": {
    "collapsed": true
   },
   "outputs": [],
   "source": []
  }
 ],
 "metadata": {
  "anaconda-cloud": {},
  "kernelspec": {
   "display_name": "Python [Root]",
   "language": "python",
   "name": "Python [Root]"
  },
  "language_info": {
   "codemirror_mode": {
    "name": "ipython",
    "version": 2
   },
   "file_extension": ".py",
   "mimetype": "text/x-python",
   "name": "python",
   "nbconvert_exporter": "python",
   "pygments_lexer": "ipython2",
   "version": "2.7.12"
  }
 },
 "nbformat": 4,
 "nbformat_minor": 0
}
