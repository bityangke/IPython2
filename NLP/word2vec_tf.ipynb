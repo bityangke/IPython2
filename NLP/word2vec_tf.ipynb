{
 "cells": [
  {
   "cell_type": "code",
   "execution_count": 1,
   "metadata": {
    "collapsed": true,
    "nbpresent": {
     "id": "e94ffd21-af34-4e2b-ac64-fc9b81a42a98"
    }
   },
   "outputs": [],
   "source": [
    "import tensorflow as tf\n",
    "import collections\n",
    "import numpy as np\n",
    "import matplotlib\n",
    "import matplotlib.pyplot as plt\n",
    "%matplotlib inline"
   ]
  },
  {
   "cell_type": "code",
   "execution_count": 2,
   "metadata": {
    "collapsed": false,
    "nbpresent": {
     "id": "b70dc07b-5ba9-4c44-a638-49a6ee74faf7"
    }
   },
   "outputs": [
    {
     "name": "stdout",
     "output_type": "stream",
     "text": [
      "'sentences' is <type 'list'> and length is 12.\n"
     ]
    }
   ],
   "source": [
    "batch_size = 20 \n",
    "embedding_size = 2\n",
    "num_sampled = 15\n",
    "\n",
    "sentences = [\"the quick brown fox jumped over the lazy dog\",\n",
    "\"I love cats and dogs\",\n",
    "\"we all love cats and dogs\",\n",
    "\"cats and dogs are great\",\n",
    "\"sung likes cats\" ,\n",
    "\"she loves dogs\",\n",
    "\"cats can be very independent\",\n",
    "\"cats are great companions when they want to be\",\n",
    "\"cats are playful\",\n",
    "\"cats are natural hunters\",\n",
    "\"It's raining cats and dogs\",\n",
    "\"dogs and cats love sung\"]\n",
    "\n",
    "# 'sentences' is 'list'\n",
    "print(\"'sentences' is %s and length is %d.\"\n",
    "        % (type(sentences), len(sentences)))"
   ]
  },
  {
   "cell_type": "code",
   "execution_count": 4,
   "metadata": {
    "collapsed": false,
    "nbpresent": {
     "id": "59551d77-e6c1-4a13-9483-fff4baaad7c4"
    }
   },
   "outputs": [
    {
     "name": "stdout",
     "output_type": "stream",
     "text": [
      "'words' is <type 'list'> and length is 62.\n",
      "['the', 'quick', 'brown', 'fox', 'jumped', 'over', 'the', 'lazy', 'dog', 'I', 'love', 'cats', 'and', 'dogs', 'we', 'all', 'love', 'cats', 'and', 'dogs', 'cats', 'and', 'dogs', 'are', 'great', 'sung', 'likes', 'cats', 'she', 'loves', 'dogs', 'cats', 'can', 'be', 'very', 'independent', 'cats', 'are', 'great', 'companions', 'when', 'they', 'want', 'to', 'be', 'cats', 'are', 'playful', 'cats', 'are', 'natural', 'hunters', \"It's\", 'raining', 'cats', 'and', 'dogs', 'dogs', 'and', 'cats', 'love', 'sung']\n"
     ]
    }
   ],
   "source": [
    "words = \" \".join(sentences).split()\n",
    "print(\"'words' is %s and length is %d.\" % (type(words),len(words)))\n",
    "print(words)"
   ]
  },
  {
   "cell_type": "code",
   "execution_count": 5,
   "metadata": {
    "collapsed": false,
    "nbpresent": {
     "id": "dd6bbea7-d361-4791-89fb-93acad1b4ed9"
    }
   },
   "outputs": [
    {
     "name": "stdout",
     "output_type": "stream",
     "text": [
      "'count' is <type 'list'> and length is 35.\n",
      "Word count of top five is [('cats', 10), ('dogs', 6), ('and', 5), ('are', 4), ('love', 3)]\n",
      "[('cats', 10), ('dogs', 6), ('and', 5), ('are', 4), ('love', 3), ('be', 2), ('sung', 2), ('great', 2), ('the', 2), ('raining', 1), ('all', 1), ('when', 1), ('over', 1), ('we', 1), ('playful', 1), ('want', 1), ('to', 1), ('jumped', 1), ('hunters', 1), ('companions', 1), ('fox', 1), ('very', 1), (\"It's\", 1), ('can', 1), ('brown', 1), ('lazy', 1), ('I', 1), ('independent', 1), ('they', 1), ('natural', 1), ('dog', 1), ('she', 1), ('loves', 1), ('quick', 1), ('likes', 1)]\n"
     ]
    }
   ],
   "source": [
    "count = collections.Counter(words).most_common()\n",
    "print(\"'count' is %s and length is %d.\" % (type(count),len(count)))\n",
    "print(\"Word count of top five is %s\" % (count[:5]))\n",
    "print(count)"
   ]
  },
  {
   "cell_type": "code",
   "execution_count": 7,
   "metadata": {
    "collapsed": false,
    "nbpresent": {
     "id": "45b1d833-d6a0-43a1-85ee-fd0a23c3f6f8"
    }
   },
   "outputs": [
    {
     "name": "stdout",
     "output_type": "stream",
     "text": [
      "['the', 'quick', 'brown', 'fox', 'jumped']\n",
      "[('cats', 10), ('dogs', 6), ('and', 5), ('are', 4), ('love', 3)]\n"
     ]
    }
   ],
   "source": [
    "print words[0:5]\n",
    "print count[0:5]"
   ]
  },
  {
   "cell_type": "code",
   "execution_count": 11,
   "metadata": {
    "collapsed": false,
    "nbpresent": {
     "id": "da5e6d58-c542-40ac-af91-064e9a6f7311"
    }
   },
   "outputs": [
    {
     "name": "stdout",
     "output_type": "stream",
     "text": [
      "['cats', 'dogs', 'and', 'are', 'love', 'be', 'sung', 'great', 'the', 'raining', 'all', 'when', 'over', 'we', 'playful', 'want', 'to', 'jumped', 'hunters', 'companions', 'fox', 'very', \"It's\", 'can', 'brown', 'lazy', 'I', 'independent', 'they', 'natural', 'dog', 'she', 'loves', 'quick', 'likes']\n",
      "{'and': 2, 'raining': 9, 'all': 10, 'love': 4, 'brown': 24, 'when': 11, 'over': 12, 'lazy': 25, 'playful': 14, 'are': 3, 'want': 15, 'sung': 6, 'jumped': 17, 'hunters': 18, 'companions': 19, 'fox': 20, 'to': 16, 'cats': 0, \"It's\": 22, 'dogs': 1, 'she': 31, 'be': 5, 'we': 13, 'very': 21, 'independent': 27, 'they': 28, 'natural': 29, 'great': 7, 'I': 26, 'dog': 30, 'can': 23, 'loves': 32, 'quick': 33, 'the': 8, 'likes': 34}\n"
     ]
    }
   ],
   "source": [
    "rdic = [i[0] for i in count]\n",
    "dic = {w:i for i,w in enumerate(rdic)}\n",
    "voc_size = len(rdic)\n",
    "print(rdic)\n",
    "print(dic)"
   ]
  },
  {
   "cell_type": "code",
   "execution_count": 12,
   "metadata": {
    "collapsed": false,
    "nbpresent": {
     "id": "ba6d606d-a6a1-4686-bc8b-b47b752bd230"
    }
   },
   "outputs": [
    {
     "name": "stdout",
     "output_type": "stream",
     "text": [
      "[8, 33, 24, 20, 17, 12, 8, 25, 30, 26, 4, 0, 2, 1, 13, 10, 4, 0, 2, 1, 0, 2, 1, 3, 7, 6, 34, 0, 31, 32, 1, 0, 23, 5, 21, 27, 0, 3, 7, 19, 11, 28, 15, 16, 5, 0, 3, 14, 0, 3, 29, 18, 22, 9, 0, 2, 1, 1, 2, 0, 4, 6]\n"
     ]
    }
   ],
   "source": [
    "data = [dic[word] for word in words]\n",
    "print(data)"
   ]
  },
  {
   "cell_type": "code",
   "execution_count": 13,
   "metadata": {
    "collapsed": false,
    "nbpresent": {
     "id": "29bb770b-5070-4d10-8234-8aaae0e5a999"
    }
   },
   "outputs": [
    {
     "name": "stdout",
     "output_type": "stream",
     "text": [
      "[[[8, 24], 33], [[33, 20], 24], [[24, 17], 20], [[20, 12], 17], [[17, 8], 12], [[12, 25], 8], [[8, 30], 25], [[25, 26], 30], [[30, 4], 26], [[26, 0], 4], [[4, 2], 0], [[0, 1], 2], [[2, 13], 1], [[1, 10], 13], [[13, 4], 10], [[10, 0], 4], [[4, 2], 0], [[0, 1], 2], [[2, 0], 1], [[1, 2], 0], [[0, 1], 2], [[2, 3], 1], [[1, 7], 3], [[3, 6], 7], [[7, 34], 6], [[6, 0], 34], [[34, 31], 0], [[0, 32], 31], [[31, 1], 32], [[32, 0], 1], [[1, 23], 0], [[0, 5], 23], [[23, 21], 5], [[5, 27], 21], [[21, 0], 27], [[27, 3], 0], [[0, 7], 3], [[3, 19], 7], [[7, 11], 19], [[19, 28], 11], [[11, 15], 28], [[28, 16], 15], [[15, 5], 16], [[16, 0], 5], [[5, 3], 0], [[0, 14], 3], [[3, 0], 14], [[14, 3], 0], [[0, 29], 3], [[3, 18], 29], [[29, 22], 18], [[18, 9], 22], [[22, 0], 9], [[9, 2], 0], [[0, 1], 2], [[2, 1], 1], [[1, 2], 1], [[1, 0], 2], [[2, 4], 0], [[0, 6], 4]]\n"
     ]
    }
   ],
   "source": [
    "cbow_paris = []\n",
    "for i in range(1, len(data)-1):\n",
    "    cbow_paris.append([[data[i-1],data[i+1]],data[i]])\n",
    "print cbow_paris"
   ]
  },
  {
   "cell_type": "code",
   "execution_count": 14,
   "metadata": {
    "collapsed": false,
    "nbpresent": {
     "id": "2e172cf5-717a-48bf-9ccf-6d837e32dbbd"
    }
   },
   "outputs": [
    {
     "name": "stdout",
     "output_type": "stream",
     "text": [
      "[[33, 8], [33, 24], [24, 33], [24, 20], [20, 24], [20, 17], [17, 20], [17, 12], [12, 17], [12, 8], [8, 12], [8, 25], [25, 8], [25, 30], [30, 25], [30, 26], [26, 30], [26, 4], [4, 26], [4, 0], [0, 4], [0, 2], [2, 0], [2, 1], [1, 2], [1, 13], [13, 1], [13, 10], [10, 13], [10, 4], [4, 10], [4, 0], [0, 4], [0, 2], [2, 0], [2, 1], [1, 2], [1, 0], [0, 1], [0, 2], [2, 0], [2, 1], [1, 2], [1, 3], [3, 1], [3, 7], [7, 3], [7, 6], [6, 7], [6, 34], [34, 6], [34, 0], [0, 34], [0, 31], [31, 0], [31, 32], [32, 31], [32, 1], [1, 32], [1, 0], [0, 1], [0, 23], [23, 0], [23, 5], [5, 23], [5, 21], [21, 5], [21, 27], [27, 21], [27, 0], [0, 27], [0, 3], [3, 0], [3, 7], [7, 3], [7, 19], [19, 7], [19, 11], [11, 19], [11, 28], [28, 11], [28, 15], [15, 28], [15, 16], [16, 15], [16, 5], [5, 16], [5, 0], [0, 5], [0, 3], [3, 0], [3, 14], [14, 3], [14, 0], [0, 14], [0, 3], [3, 0], [3, 29], [29, 3], [29, 18], [18, 29], [18, 22], [22, 18], [22, 9], [9, 22], [9, 0], [0, 9], [0, 2], [2, 0], [2, 1], [1, 2], [1, 1], [1, 1], [1, 2], [2, 1], [2, 0], [0, 2], [0, 4], [4, 0], [4, 6]]\n"
     ]
    }
   ],
   "source": [
    "#(quick,the),(quick,brown)\n",
    "skip_gram_paris=[]\n",
    "for c in cbow_paris:\n",
    "    skip_gram_paris.append([c[1],c[0][0]])\n",
    "    skip_gram_paris.append([c[1],c[0][1]])\n",
    "    \n",
    "print(skip_gram_paris)"
   ]
  },
  {
   "cell_type": "code",
   "execution_count": 15,
   "metadata": {
    "collapsed": false,
    "nbpresent": {
     "id": "f32ce1f7-d050-4476-b051-8d6bd9fc4d11"
    }
   },
   "outputs": [
    {
     "name": "stdout",
     "output_type": "stream",
     "text": [
      "('Batches size:', ([24, 1, 1, 3, 2], [[20], [13], [1], [14], [0]]))\n"
     ]
    }
   ],
   "source": [
    "def generate_batch(size):\n",
    "    assert size < len(skip_gram_paris)\n",
    "    x_data = []\n",
    "    y_data = []\n",
    "    r = np.random.choice(range(len(skip_gram_paris)),size,replace=False)\n",
    "    for i in r:\n",
    "        x_data.append(skip_gram_paris[i][0])\n",
    "        y_data.append([skip_gram_paris[i][1]])\n",
    "    return x_data,y_data\n",
    "\n",
    "print ('Batches size:', generate_batch(5))"
   ]
  },
  {
   "cell_type": "code",
   "execution_count": 20,
   "metadata": {
    "collapsed": false,
    "nbpresent": {
     "id": "052e881c-25de-49cd-a3e8-6c96a3c6425d"
    }
   },
   "outputs": [
    {
     "name": "stdout",
     "output_type": "stream",
     "text": [
      "Netword ready\n"
     ]
    }
   ],
   "source": [
    "#NetWord\n",
    "#Input data\n",
    "train_inputs = tf.placeholder(tf.int32, shape=[batch_size])\n",
    "train_labels = tf.placeholder(tf.int32, shape=[batch_size, 1])\n",
    "with tf.device(\"/cpu:0\"):\n",
    "    #look up embedding for input\n",
    "    embeddings = tf.Variable(tf.random_uniform([voc_size, embedding_size], -1.0, 1.0))\n",
    "    embed = tf.nn.embedding_lookup(embeddings, train_inputs)\n",
    "    \n",
    "#construct the variable for the nce loss\n",
    "nce_weights = tf.Variable(tf.random_uniform([voc_size, embedding_size], -1.0, 1.0))\n",
    "nce_biases = tf.Variable(tf.zeros([voc_size]))\n",
    "\n",
    "loss = tf.reduce_mean(tf.nn.nce_loss(nce_weights, nce_biases, embed, train_labels, num_sampled, voc_size))\n",
    "train_op = tf.train.AdamOptimizer(0.01).minimize(loss)\n",
    "print(\"Netword ready\")"
   ]
  },
  {
   "cell_type": "code",
   "execution_count": 21,
   "metadata": {
    "collapsed": false
   },
   "outputs": [
    {
     "name": "stdout",
     "output_type": "stream",
     "text": [
      "Loss at 0: 18.16610\n",
      "Loss at 500: 3.51891\n",
      "Loss at 1000: 3.30569\n",
      "Loss at 1500: 3.23297\n",
      "Loss at 2000: 3.29046\n",
      "Loss at 2500: 2.97398\n"
     ]
    }
   ],
   "source": [
    "with tf.Session() as sess:\n",
    "    tf.initialize_all_variables().run()\n",
    "    \n",
    "    for step in range(3000):\n",
    "        batch_inputs, batch_labels = generate_batch(batch_size)\n",
    "        _, loss_val = sess.run([train_op, loss], feed_dict={train_inputs:batch_inputs, train_labels:batch_labels})\n",
    "        if step % 500 == 0:\n",
    "            print(\"Loss at %d: %.5f\" % (step, loss_val))\n",
    "    \n",
    "    traind_embeddings = embeddings.eval()"
   ]
  },
  {
   "cell_type": "code",
   "execution_count": 23,
   "metadata": {
    "collapsed": false
   },
   "outputs": [
    {
     "data": {
      "image/png": "[encoded data removed]",
      "text/plain": [
       "<matplotlib.figure.Figure at 0x11cb61e10>"
      ]
     },
     "metadata": {},
     "output_type": "display_data"
    }
   ],
   "source": [
    "#show trained word2vec\n",
    "if traind_embeddings.shape[1]==2:\n",
    "    labels = rdic[:20]\n",
    "    for i,label in enumerate(labels):\n",
    "        x, y = traind_embeddings[i,:]\n",
    "        plt.scatter(x,y)\n",
    "        plt.annotate(label, xy=(x,y), xytext=(5,2), textcoords='offset points', ha='right', va='bottom')\n",
    "    plt.show()"
   ]
  },
  {
   "cell_type": "code",
   "execution_count": null,
   "metadata": {
    "collapsed": true
   },
   "outputs": [],
   "source": []
  }
 ],
 "metadata": {
  "anaconda-cloud": {},
  "kernelspec": {
   "display_name": "Python [Root]",
   "language": "python",
   "name": "Python [Root]"
  },
  "language_info": {
   "codemirror_mode": {
    "name": "ipython",
    "version": 2
   },
   "file_extension": ".py",
   "mimetype": "text/x-python",
   "name": "python",
   "nbconvert_exporter": "python",
   "pygments_lexer": "ipython2",
   "version": "2.7.12"
  },
  "nbpresent": {
   "slides": {},
   "themes": {}
  }
 },
 "nbformat": 4,
 "nbformat_minor": 0
}
