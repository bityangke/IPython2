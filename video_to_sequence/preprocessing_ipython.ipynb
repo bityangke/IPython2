{
 "cells": [
  {
   "cell_type": "code",
   "execution_count": 1,
   "metadata": {
    "collapsed": false
   },
   "outputs": [],
   "source": [
    "#-*- coding: utf-8 -*-\n",
    "'''\n",
    "According to the paper, the authors extracted upto 80 frames from each video,\n",
    "they did not mention if they grabbed first 80 frames, or sampled 80 frames with same intervals,\n",
    "but anyway I did the latter.\n",
    "'''\n",
    "import cv2\n",
    "import os\n",
    "import numpy as np\n",
    "import pandas as pd\n",
    "import skimage\n",
    "#from cnn_util import *"
   ]
  },
  {
   "cell_type": "code",
   "execution_count": 3,
   "metadata": {
    "collapsed": false
   },
   "outputs": [
    {
     "name": "stdout",
     "output_type": "stream",
     "text": [
      "2\n",
      "zxB4dFJhHR8_1_9.avi\n"
     ]
    }
   ],
   "source": [
    "num_frames = 80\n",
    "vgg_model = '/home/taeksoo/Package/caffe/models/vgg/VGG_ILSVRC_19_layers.caffemodel'\n",
    "vgg_deploy = '/home/taeksoo/Package/caffe/models/vgg/VGG_ILSVRC_19_layers_deploy.prototxt'\n",
    "\n",
    "video_path = '/Users/holazhai/Documents/data/video_to_sequence/YouTubeClipsTest/'\n",
    "video_save_path = '/Users/holazhai/Documents/data/video_to_sequence/youtube_feats'\n",
    "videos = os.listdir(video_path)\n",
    "videos = filter(lambda x: x.endswith('avi'), videos)\n",
    "print len(videos)\n",
    "print videos[0]"
   ]
  },
  {
   "cell_type": "code",
   "execution_count": 8,
   "metadata": {
    "collapsed": false
   },
   "outputs": [
    {
     "name": "stdout",
     "output_type": "stream",
     "text": [
      "zxB4dFJhHR8_1_9.avi\n",
      "<VideoCapture 0x112a34a50>\n",
      "False\n",
      "None\n",
      "0\n",
      "[]\n",
      "/Users/holazhai/Documents/data/video_to_sequence/youtube_feats/zxB4dFJhHR8_1_9.avi.npy\n",
      "zzit5b_-ukg_5_20.avi\n",
      "<VideoCapture 0x112a349d0>\n",
      "False\n",
      "None\n",
      "0\n",
      "[]\n",
      "/Users/holazhai/Documents/data/video_to_sequence/youtube_feats/zzit5b_-ukg_5_20.avi.npy\n"
     ]
    }
   ],
   "source": [
    "#cnn = CNN(model=vgg_model, deploy=vgg_deploy, width=224, height=224)\n",
    "\n",
    "for video in videos:\n",
    "    print video\n",
    "\n",
    "    if os.path.exists( os.path.join(video_save_path, video) ):\n",
    "        print \"Already processed ... \"\n",
    "        continue\n",
    "\n",
    "    video_fullpath = os.path.join(video_path, video)\n",
    "    try:\n",
    "        cap  = cv2.VideoCapture( video_fullpath )\n",
    "        print cap\n",
    "    except:\n",
    "        pass\n",
    "\n",
    "    frame_count = 0\n",
    "    frame_list = []\n",
    "\n",
    "    while True:\n",
    "        ret, frame = cap.read()\n",
    "        print ret\n",
    "        print frame\n",
    "        if ret is False:\n",
    "            break\n",
    "\n",
    "        frame_list.append(frame)\n",
    "        frame_count += 1\n",
    "    \n",
    "    print frame_count\n",
    "    frame_list = np.array(frame_list)\n",
    "    print frame_list\n",
    "    if frame_count > 80:\n",
    "        frame_indices = np.linspace(0, frame_count, num=num_frames, endpoint=False).astype(int)\n",
    "        frame_list = frame_list[frame_indices]\n",
    "\n",
    "    cropped_frame_list = np.array(map(lambda x: preprocess_frame(x), frame_list))\n",
    "    #feats = cnn.get_features(cropped_frame_list)\n",
    "\n",
    "    save_full_path = os.path.join(video_save_path, video + '.npy')\n",
    "    print save_full_path\n",
    "    #np.save(save_full_path, feats)\n"
   ]
  },
  {
   "cell_type": "code",
   "execution_count": null,
   "metadata": {
    "collapsed": true
   },
   "outputs": [],
   "source": []
  }
 ],
 "metadata": {
  "kernelspec": {
   "display_name": "Python [Root]",
   "language": "python",
   "name": "Python [Root]"
  },
  "language_info": {
   "codemirror_mode": {
    "name": "ipython",
    "version": 2
   },
   "file_extension": ".py",
   "mimetype": "text/x-python",
   "name": "python",
   "nbconvert_exporter": "python",
   "pygments_lexer": "ipython2",
   "version": "2.7.12"
  }
 },
 "nbformat": 4,
 "nbformat_minor": 0
}
