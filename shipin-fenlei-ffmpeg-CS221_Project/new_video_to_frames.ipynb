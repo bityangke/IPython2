{
 "cells": [
  {
   "cell_type": "code",
   "execution_count": 30,
   "metadata": {
    "collapsed": false
   },
   "outputs": [],
   "source": [
    "# coding: utf-8\n",
    "import subprocess\n",
    "import numpy as np\n",
    "import os, sys, collections, random, string"
   ]
  },
  {
   "cell_type": "code",
   "execution_count": 31,
   "metadata": {
    "collapsed": true
   },
   "outputs": [],
   "source": [
    "orig_dir = \"/Users/holazhai/Downloads/NDPI/ori/\"\n",
    "frame_dir = \"/Users/holazhai/Downloads/NDPI/frames/\"\n",
    "\n",
    "def extract_frame_ffmpeg(videoName,frameName):\n",
    "    \"\"\"Doc\n",
    "    Extracts the first frame from the input video (videoName)\n",
    "    and saves it at the location (frameName)\n",
    "    \"\"\"\n",
    "    #forces extracted frames to be 320x240 dim.\n",
    "    if not os.path.exists(videoName):\n",
    "        print '%s does not exist!' % videoName\n",
    "        return False\n",
    "    # call ffmpeg and grab its stderr output\n",
    "    #p = subprocess.call('ffmpeg -i %s -r 1 -s qvga -t 1 -f image2 %s' % (videoName,frameName), shell=True)\n",
    "    #每隔10秒截一张 ，r=0.1 （r=1,表示每隔1s）\n",
    "    p = subprocess.call('ffmpeg -i %s -r 0.1 -f image2 %s' % (videoName,frameName), shell=True)\n",
    "    return p"
   ]
  },
  {
   "cell_type": "code",
   "execution_count": 33,
   "metadata": {
    "collapsed": false
   },
   "outputs": [],
   "source": [
    "def extract_frames(inputDir,outputDir):\n",
    "    files = os.listdir(inputDir) \n",
    "    for vid in files:\n",
    "        videoName = os.path.join(inputDir,vid)\n",
    "        frameName = os.path.join(outputDir, vid.split('.')[0]+\"_%3d.jpeg\")\n",
    "        extract_frame_ffmpeg(videoName,frameName)\n",
    "\n",
    "extract_frames(orig_dir, frame_dir) "
   ]
  }
 ],
 "metadata": {
  "anaconda-cloud": {},
  "kernelspec": {
   "display_name": "Python [Root]",
   "language": "python",
   "name": "Python [Root]"
  },
  "language_info": {
   "codemirror_mode": {
    "name": "ipython",
    "version": 2
   },
   "file_extension": ".py",
   "mimetype": "text/x-python",
   "name": "python",
   "nbconvert_exporter": "python",
   "pygments_lexer": "ipython2",
   "version": "2.7.12"
  }
 },
 "nbformat": 4,
 "nbformat_minor": 0
}
