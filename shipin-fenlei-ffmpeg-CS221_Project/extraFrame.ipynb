{
 "cells": [
  {
   "cell_type": "code",
   "execution_count": 26,
   "metadata": {
    "collapsed": true
   },
   "outputs": [],
   "source": [
    "import ffmpeg\n",
    "import subprocess\n",
    "import numpy as np\n",
    "import os, sys, collections, random, string"
   ]
  },
  {
   "cell_type": "code",
   "execution_count": 27,
   "metadata": {
    "collapsed": false
   },
   "outputs": [],
   "source": [
    "orig_dir = \"/Users/baidu/Documents/workspace/Action_recognition_scripts_UCF101/data/UCF-101\"\n",
    "#playing a video saved in disk\n",
    "video_pwd = os.path.join(orig_dir,\"v_ApplyEyeMakeup_g01_c03.avi\")\n",
    "\n",
    "ucf101_path = \"/Users/baidu/Documents/workspace/Action_recognition_scripts_UCF101/data/UCF-101\"\n",
    "trainlists = '/Users/baidu/Documents/workspace/Action_recognition_scripts_UCF101/data/ucfTrainTestlist'\n",
    "trainlist01 = os.path.join(trainlists, 'trainlist01.txt')\n",
    "testlist01 = os.path.join(trainlists, 'testlist01.txt')\n",
    "training_output = '/Users/baidu/Documents/workspace/Action_recognition_scripts_UCF101/data/tmp_frames/train'\n",
    "testing_output = '/Users/baidu/Documents/workspace/Action_recognition_scripts_UCF101/data/tmp_frames/test'"
   ]
  },
  {
   "cell_type": "code",
   "execution_count": 28,
   "metadata": {
    "collapsed": false
   },
   "outputs": [
    {
     "data": {
      "text/plain": [
       "['ApplyEyeMakeup/v_ApplyEyeMakeup_g08_c01.avi',\n",
       " 'ApplyEyeMakeup/v_ApplyEyeMakeup_g08_c02.avi',\n",
       " 'ApplyEyeMakeup/v_ApplyEyeMakeup_g08_c03.avi',\n",
       " 'ApplyEyeMakeup/v_ApplyEyeMakeup_g08_c04.avi',\n",
       " 'ApplyEyeMakeup/v_ApplyEyeMakeup_g08_c05.avi']"
      ]
     },
     "execution_count": 28,
     "metadata": {},
     "output_type": "execute_result"
    }
   ],
   "source": [
    "trainlist01\n",
    "f = open(trainlist01, 'r')\n",
    "vids = f.readlines()\n",
    "vids = [video.rstrip() for video in vids]\n",
    "vids = [line.split()[0] for line in vids]\n",
    "vids"
   ]
  },
  {
   "cell_type": "code",
   "execution_count": 31,
   "metadata": {
    "collapsed": false
   },
   "outputs": [
    {
     "name": "stdout",
     "output_type": "stream",
     "text": [
      "/Users/baidu/Documents/workspace/Action_recognition_scripts_UCF101/data/UCF-101/ApplyEyeMakeup/v_ApplyEyeMakeup_g08_c01.avi\n",
      "/Users/baidu/Documents/workspace/Action_recognition_scripts_UCF101/data/tmp_frames/train/v_ApplyEyeMakeup_g08_c01_%2d.jpeg\n",
      "/Users/baidu/Documents/workspace/Action_recognition_scripts_UCF101/data/UCF-101/ApplyEyeMakeup/v_ApplyEyeMakeup_g08_c02.avi\n",
      "/Users/baidu/Documents/workspace/Action_recognition_scripts_UCF101/data/tmp_frames/train/v_ApplyEyeMakeup_g08_c02_%2d.jpeg\n",
      "/Users/baidu/Documents/workspace/Action_recognition_scripts_UCF101/data/UCF-101/ApplyEyeMakeup/v_ApplyEyeMakeup_g08_c03.avi\n",
      "/Users/baidu/Documents/workspace/Action_recognition_scripts_UCF101/data/tmp_frames/train/v_ApplyEyeMakeup_g08_c03_%2d.jpeg\n",
      "/Users/baidu/Documents/workspace/Action_recognition_scripts_UCF101/data/UCF-101/ApplyEyeMakeup/v_ApplyEyeMakeup_g08_c04.avi\n",
      "/Users/baidu/Documents/workspace/Action_recognition_scripts_UCF101/data/tmp_frames/train/v_ApplyEyeMakeup_g08_c04_%2d.jpeg\n",
      "/Users/baidu/Documents/workspace/Action_recognition_scripts_UCF101/data/UCF-101/ApplyEyeMakeup/v_ApplyEyeMakeup_g08_c05.avi\n",
      "/Users/baidu/Documents/workspace/Action_recognition_scripts_UCF101/data/tmp_frames/train/v_ApplyEyeMakeup_g08_c05_%2d.jpeg\n",
      "/Users/baidu/Documents/workspace/Action_recognition_scripts_UCF101/data/UCF-101/ApplyEyeMakeup/v_ApplyEyeMakeup_g01_c01.avi\n",
      "/Users/baidu/Documents/workspace/Action_recognition_scripts_UCF101/data/tmp_frames/test/v_ApplyEyeMakeup_g01_c01_%2d.jpeg\n",
      "/Users/baidu/Documents/workspace/Action_recognition_scripts_UCF101/data/UCF-101/ApplyEyeMakeup/v_ApplyEyeMakeup_g01_c02.avi\n",
      "/Users/baidu/Documents/workspace/Action_recognition_scripts_UCF101/data/tmp_frames/test/v_ApplyEyeMakeup_g01_c02_%2d.jpeg\n",
      "/Users/baidu/Documents/workspace/Action_recognition_scripts_UCF101/data/UCF-101/ApplyEyeMakeup/v_ApplyEyeMakeup_g01_c03.avi\n",
      "/Users/baidu/Documents/workspace/Action_recognition_scripts_UCF101/data/tmp_frames/test/v_ApplyEyeMakeup_g01_c03_%2d.jpeg\n",
      "/Users/baidu/Documents/workspace/Action_recognition_scripts_UCF101/data/UCF-101/ApplyEyeMakeup/v_ApplyEyeMakeup_g01_c04.avi\n",
      "/Users/baidu/Documents/workspace/Action_recognition_scripts_UCF101/data/tmp_frames/test/v_ApplyEyeMakeup_g01_c04_%2d.jpeg\n",
      "/Users/baidu/Documents/workspace/Action_recognition_scripts_UCF101/data/UCF-101/ApplyEyeMakeup/v_ApplyEyeMakeup_g01_c05.avi\n",
      "/Users/baidu/Documents/workspace/Action_recognition_scripts_UCF101/data/tmp_frames/test/v_ApplyEyeMakeup_g01_c05_%2d.jpeg\n"
     ]
    }
   ],
   "source": [
    "def extract_frames(vidlist,vidDir,outputDir):\n",
    "    f = open(vidlist, 'r')\n",
    "    vids = f.readlines()\n",
    "    f.close()\n",
    "    vids = [video.rstrip() for video in vids]\n",
    "    vids = [line.split()[0] for line in vids]\n",
    "    for vid in vids:\n",
    "        videoName = os.path.join(vidDir,vid)\n",
    "        frameName = os.path.join(outputDir, vid.split('/')[1].split('.')[0]+\"_%2d.jpeg\")\n",
    "        ffmpeg.extract_frame(videoName,frameName)\n",
    "        \n",
    "extract_frames(trainlist01, ucf101_path,training_output)\n",
    "extract_frames(testlist01, ucf101_path,testing_output)"
   ]
  },
  {
   "cell_type": "code",
   "execution_count": null,
   "metadata": {
    "collapsed": true
   },
   "outputs": [],
   "source": []
  }
 ],
 "metadata": {
  "kernelspec": {
   "display_name": "Python 2",
   "language": "python",
   "name": "python2"
  },
  "language_info": {
   "codemirror_mode": {
    "name": "ipython",
    "version": 2
   },
   "file_extension": ".py",
   "mimetype": "text/x-python",
   "name": "python",
   "nbconvert_exporter": "python",
   "pygments_lexer": "ipython2",
   "version": "2.7.10"
  }
 },
 "nbformat": 4,
 "nbformat_minor": 0
}
