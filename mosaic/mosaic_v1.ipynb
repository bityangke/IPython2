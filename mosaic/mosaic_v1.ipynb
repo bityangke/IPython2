{
 "cells": [
  {
   "cell_type": "code",
   "execution_count": 5,
   "metadata": {
    "collapsed": false
   },
   "outputs": [
    {
     "name": "stderr",
     "output_type": "stream",
     "text": [
      "Using Theano backend.\n"
     ]
    },
    {
     "name": "stdout",
     "output_type": "stream",
     "text": [
      "\r\n",
      "Mosaic: detect porngraghic\n",
      "=====================================\n"
     ]
    }
   ],
   "source": [
    "from keras.models import model_from_json\n",
    "from keras.preprocessing.image import array_to_img, img_to_array, load_img\n",
    "import h5py\n",
    "import os\n",
    "\n",
    "print ('\\r\\nMosaic: detect porngraghic')\n",
    "print ('=====================================')"
   ]
  },
  {
   "cell_type": "code",
   "execution_count": 6,
   "metadata": {
    "collapsed": false
   },
   "outputs": [],
   "source": [
    "from keras.models import Sequential\n",
    "from keras.layers import merge, Input\n",
    "from keras.layers import Dense, Activation, Flatten, Dropout\n",
    "from keras.layers import Convolution2D, MaxPooling2D, ZeroPadding2D, AveragePooling2D\n",
    "from keras.layers import BatchNormalization\n",
    "\n",
    "model2 = Sequential()\n",
    "model2.add(Convolution2D(64, 3, 3, input_shape=(3, 32, 32), name='convolution2d_1'))\n",
    "model2.add(Activation('relu', name='activation_1'))\n",
    "model2.add(MaxPooling2D((2, 2), strides=(2, 2), name='maxpooling2d_1'))\n",
    "\n",
    "model2.add(Convolution2D(64, 3, 3, name='convolution2d_2'))\n",
    "model2.add(Activation('relu', name='activation_2'))\n",
    "model2.add(MaxPooling2D((2, 2), strides=(2, 2), name='maxpooling2d_2'))\n",
    "\n",
    "model2.add(Flatten(name='flatten_1'))\n",
    "model2.add(Dense(128, name='dense_1'))\n",
    "model2.add(Activation('relu', name='activation_3'))\n",
    "model2.add(Dropout(0.5, name='dropout_1'))\n",
    "model2.add(Dense(128, name='dense_2'))\n",
    "model2.add(Activation('relu', name='activation_4'))\n",
    "model2.add(Dropout(0.5, name='dropout_2'))\n",
    "model2.add(Dense(1, name='dense_3'))\n",
    "model2.add(Activation('sigmoid', name='activation_5'))\n",
    "\n",
    "model2.compile(optimizer='rmsprop', loss='binary_crossentropy', metrics=['accuracy'])"
   ]
  },
  {
   "cell_type": "code",
   "execution_count": 7,
   "metadata": {
    "collapsed": false
   },
   "outputs": [
    {
     "name": "stdout",
     "output_type": "stream",
     "text": [
      "loading weights..........\n",
      "load OK!\n"
     ]
    }
   ],
   "source": [
    "if os.path.exists('./model/mosaic_porngraphic_cnn.release.hdf5'):\n",
    "    model2.load_weights('./model/mosaic_porngraphic_cnn.release.hdf5')\n",
    "    print ('loading weights..........')\n",
    "    print ('load OK!')"
   ]
  },
  {
   "cell_type": "code",
   "execution_count": 20,
   "metadata": {
    "collapsed": false
   },
   "outputs": [
    {
     "name": "stdout",
     "output_type": "stream",
     "text": [
      "\n",
      "Try to Predict input images:\n",
      "=====================================\n",
      "[[ 1.]]\n",
      "[[ 1.]]\n",
      "1/1 [==============================] - 0s\n",
      "[[ 1.]]\n"
     ]
    }
   ],
   "source": [
    "img_rows, img_cols = 32, 32\n",
    "img_channels = 3\n",
    "print ('\\r\\nTry to Predict input images:')\n",
    "print ('=====================================')\n",
    "\n",
    "import os\n",
    "import glob\n",
    "path = '/Users/holazhai/Downloads/gol075/'\n",
    "files = os.listdir(path) \n",
    "for f in files:\n",
    "    re_img = load_img(path+f)\n",
    "    re_img = re_img.resize((img_cols,img_rows))\n",
    "    x_img = img_to_array(re_img)  # this is a Numpy array with shape (3, 32, 32)\n",
    "    x_img = x_img.reshape((1,) + x_img.shape)  # this is a Numpy array with shape (1, 3, 32, 32)\n",
    "    print (f + ' probability is: %3.3f%% ' %(100*model2.predict_on_batch(x_img)))\n",
    "\n",
    "re_img = load_img('/Users/holazhai/Documents/ipython-notebook/mosaic/data/test/6.jpg')  # this is a jpg image\n",
    "re_img = re_img.resize((img_cols,img_rows))\n",
    "x_img = img_to_array(re_img)  # this is a Numpy array with shape (3, 32, 32)\n",
    "x_img = x_img.reshape((1,) + x_img.shape)  # this is a Numpy array with shape (1, 3, 32, 32)\n",
    "#print ('Input image is')\n",
    "#print ('The PORNGRAPHIC probability is: %3.3f%% \\r\\n' %(100*model2.predict_on_batch(x_img)))\n",
    "print model2.predict_on_batch(x_img)\n",
    "print model2.predict(x_img)\n",
    "print model2.predict_proba(x_img)\n"
   ]
  },
  {
   "cell_type": "code",
   "execution_count": 22,
   "metadata": {
    "collapsed": false
   },
   "outputs": [
    {
     "name": "stdout",
     "output_type": "stream",
     "text": [
      "<bound method Sequential.get_weights of <keras.models.Sequential object at 0x107647a10>>\n"
     ]
    }
   ],
   "source": [
    "print model2.get_weights"
   ]
  },
  {
   "cell_type": "code",
   "execution_count": null,
   "metadata": {
    "collapsed": true
   },
   "outputs": [],
   "source": []
  }
 ],
 "metadata": {
  "anaconda-cloud": {},
  "kernelspec": {
   "display_name": "Python [Root]",
   "language": "python",
   "name": "Python [Root]"
  },
  "language_info": {
   "codemirror_mode": {
    "name": "ipython",
    "version": 2
   },
   "file_extension": ".py",
   "mimetype": "text/x-python",
   "name": "python",
   "nbconvert_exporter": "python",
   "pygments_lexer": "ipython2",
   "version": "2.7.12"
  }
 },
 "nbformat": 4,
 "nbformat_minor": 0
}
