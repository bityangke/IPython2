{
 "cells": [
  {
   "cell_type": "code",
   "execution_count": 8,
   "metadata": {
    "collapsed": false
   },
   "outputs": [
    {
     "name": "stdout",
     "output_type": "stream",
     "text": [
      "Mosaic: detect porngraghic\n",
      "=====================================\n"
     ]
    }
   ],
   "source": [
    "from keras.models import model_from_json\n",
    "from keras.preprocessing.image import array_to_img, img_to_array, load_img\n",
    "import h5py\n",
    "import os\n",
    "from PIL import Image\n",
    "from scipy.misc import imread, imresize, imsave\n",
    "import numpy as np\n",
    "\n",
    "print ('Mosaic: detect porngraghic')\n",
    "print ('=====================================')"
   ]
  },
  {
   "cell_type": "code",
   "execution_count": 9,
   "metadata": {
    "collapsed": true
   },
   "outputs": [],
   "source": [
    "#import pic data\n",
    "vPorn = '/mnt2/zhaihuixin/Frames/vPorn/'\n",
    "vNonPornEasy = '/mnt2/zhaihuixin/Frames/vNonPornEasy/'\n",
    "vNonPornDifficulty = '/mnt2/zhaihuixin/Frames/vNonPornDifficulty/'\n",
    "\n",
    "#testPath = '/Users/holazhai/Desktop/'\n",
    "def preprocess_image(image_path):\n",
    "    try:\n",
    "        img = imresize(imread(image_path), (64, 64))\n",
    "    except:\n",
    "        print 'error'\n",
    "        return 'error'\n",
    "    img = img[:, :, ::-1].astype('float64')\n",
    "    img[:, :, 0] -= 103.939\n",
    "    img[:, :, 1] -= 116.779\n",
    "    img[:, :, 2] -= 123.68\n",
    "    #print img.shape\n",
    "    #img = img.transpose((2, 0, 1)).astype('float64')\n",
    "    img = np.expand_dims(img[:,:,:3], axis=0)\n",
    "    #print img.shape\n",
    "    return img"
   ]
  },
  {
   "cell_type": "code",
   "execution_count": 10,
   "metadata": {
    "collapsed": false
   },
   "outputs": [],
   "source": [
    "def preprocess_data(path, labs):\n",
    "    data = []\n",
    "    label = []\n",
    "    filelist = os.listdir(path)\n",
    "    for f in filelist:\n",
    "        preimage = preprocess_image(path + f)\n",
    "        if preimage <> 'error':\n",
    "            #print type(preimage)\n",
    "            data.extend(preimage)\n",
    "            label.extend([labs])\n",
    "    return data, label"
   ]
  },
  {
   "cell_type": "code",
   "execution_count": 18,
   "metadata": {
    "collapsed": false
   },
   "outputs": [
    {
     "ename": "OSError",
     "evalue": "[Errno 2] No such file or directory: '/mnt2/zhaihuixin/Frames/vPorn/'",
     "output_type": "error",
     "traceback": [
      "\u001b[0;31m---------------------------------------------------------------------------\u001b[0m",
      "\u001b[0;31mOSError\u001b[0m                                   Traceback (most recent call last)",
      "\u001b[0;32m<ipython-input-18-85bd4f78ecc6>\u001b[0m in \u001b[0;36m<module>\u001b[0;34m()\u001b[0m\n\u001b[0;32m----> 1\u001b[0;31m \u001b[0mdatavPorn\u001b[0m\u001b[0;34m,\u001b[0m \u001b[0mlabelvPorn\u001b[0m \u001b[0;34m=\u001b[0m \u001b[0mpreprocess_data\u001b[0m\u001b[0;34m(\u001b[0m\u001b[0mvPorn\u001b[0m\u001b[0;34m,\u001b[0m\u001b[0;36m1\u001b[0m\u001b[0;34m)\u001b[0m\u001b[0;34m\u001b[0m\u001b[0m\n\u001b[0m\u001b[1;32m      2\u001b[0m \u001b[0mdatavNonPornEasy\u001b[0m\u001b[0;34m,\u001b[0m \u001b[0mlabelvNonPornEasy\u001b[0m \u001b[0;34m=\u001b[0m\u001b[0mpreprocess_data\u001b[0m\u001b[0;34m(\u001b[0m\u001b[0mvNonPornEasy\u001b[0m\u001b[0;34m,\u001b[0m\u001b[0;36m0\u001b[0m\u001b[0;34m)\u001b[0m\u001b[0;34m\u001b[0m\u001b[0m\n\u001b[1;32m      3\u001b[0m \u001b[0mdatavNonPornDifficulty\u001b[0m\u001b[0;34m=\u001b[0m\u001b[0mpreprocess_data\u001b[0m\u001b[0;34m(\u001b[0m\u001b[0mvNonPornDifficulty\u001b[0m\u001b[0;34m,\u001b[0m\u001b[0;36m0\u001b[0m\u001b[0;34m)\u001b[0m\u001b[0;34m\u001b[0m\u001b[0m\n",
      "\u001b[0;32m<ipython-input-10-e1951161130d>\u001b[0m in \u001b[0;36mpreprocess_data\u001b[0;34m(path, labs)\u001b[0m\n\u001b[1;32m      2\u001b[0m     \u001b[0mdata\u001b[0m \u001b[0;34m=\u001b[0m \u001b[0;34m[\u001b[0m\u001b[0;34m]\u001b[0m\u001b[0;34m\u001b[0m\u001b[0m\n\u001b[1;32m      3\u001b[0m     \u001b[0mlabel\u001b[0m \u001b[0;34m=\u001b[0m \u001b[0;34m[\u001b[0m\u001b[0;34m]\u001b[0m\u001b[0;34m\u001b[0m\u001b[0m\n\u001b[0;32m----> 4\u001b[0;31m     \u001b[0mfilelist\u001b[0m \u001b[0;34m=\u001b[0m \u001b[0mos\u001b[0m\u001b[0;34m.\u001b[0m\u001b[0mlistdir\u001b[0m\u001b[0;34m(\u001b[0m\u001b[0mpath\u001b[0m\u001b[0;34m)\u001b[0m\u001b[0;34m\u001b[0m\u001b[0m\n\u001b[0m\u001b[1;32m      5\u001b[0m     \u001b[0;32mfor\u001b[0m \u001b[0mf\u001b[0m \u001b[0;32min\u001b[0m \u001b[0mfilelist\u001b[0m\u001b[0;34m:\u001b[0m\u001b[0;34m\u001b[0m\u001b[0m\n\u001b[1;32m      6\u001b[0m         \u001b[0mpreimage\u001b[0m \u001b[0;34m=\u001b[0m \u001b[0mpreprocess_image\u001b[0m\u001b[0;34m(\u001b[0m\u001b[0mpath\u001b[0m \u001b[0;34m+\u001b[0m \u001b[0mf\u001b[0m\u001b[0;34m)\u001b[0m\u001b[0;34m\u001b[0m\u001b[0m\n",
      "\u001b[0;31mOSError\u001b[0m: [Errno 2] No such file or directory: '/mnt2/zhaihuixin/Frames/vPorn/'"
     ]
    }
   ],
   "source": [
    "datavPorn, labelvPorn = preprocess_data(vPorn,1)\n",
    "datavNonPornEasy, labelvNonPornEasy = preprocess_data(vNonPornEasy,0)\n",
    "datavNonPornDifficulty, labelvNonPornDifficulty = preprocess_data(vNonPornDifficulty,0)\n",
    "\n",
    "data = datavPorn\n",
    "data.extend(datavNonPornEasy)\n",
    "data.extend(datavNonPornDifficulty)\n",
    "\n",
    "label = labelvPorn\n",
    "label.extend(labelvNonPornEasy)\n",
    "label.extend(labelvNonPornDifficulty)\n",
    "\n",
    "data = np.array(data)"
   ]
  },
  {
   "cell_type": "code",
   "execution_count": 1,
   "metadata": {
    "collapsed": false
   },
   "outputs": [
    {
     "name": "stderr",
     "output_type": "stream",
     "text": [
      "Using TensorFlow backend.\n"
     ]
    }
   ],
   "source": [
    "from keras.models import Sequential\n",
    "from keras.layers import merge, Input\n",
    "from keras.layers import Dense, Activation, Flatten, Dropout\n",
    "from keras.layers import Convolution2D, MaxPooling2D, ZeroPadding2D, AveragePooling2D\n",
    "from keras.layers import BatchNormalization\n",
    "\n",
    "model = Sequential()\n",
    "model.add(Convolution2D(64, 3, 3, input_shape=(64, 64, 3), name='convolution2d_1'))\n",
    "model.add(Activation('relu', name='activation_1'))\n",
    "model.add(MaxPooling2D((2, 2), strides=(2, 2), name='maxpooling2d_1'))\n",
    "\n",
    "model.add(Convolution2D(64, 3, 3, name='convolution2d_2'))\n",
    "model.add(Activation('relu', name='activation_2'))\n",
    "model.add(MaxPooling2D((2, 2), strides=(2, 2), name='maxpooling2d_2'))\n",
    "\n",
    "model.add(Flatten(name='flatten_1'))\n",
    "model.add(Dense(128, name='dense_1'))\n",
    "model.add(Activation('relu', name='activation_3'))\n",
    "model.add(Dropout(0.5, name='dropout_1'))\n",
    "model.add(Dense(128, name='dense_2'))\n",
    "model.add(Activation('relu', name='activation_4'))\n",
    "model.add(Dropout(0.5, name='dropout_2'))\n",
    "model.add(Dense(1, name='dense_3'))\n",
    "model.add(Activation('sigmoid', name='activation_5'))\n",
    "\n",
    "model.compile(optimizer='Adadelta', loss='binary_crossentropy', metrics=['accuracy'])"
   ]
  },
  {
   "cell_type": "code",
   "execution_count": 100,
   "metadata": {
    "collapsed": false
   },
   "outputs": [
    {
     "name": "stdout",
     "output_type": "stream",
     "text": [
      "Train on 1 samples, validate on 1 samples\n",
      "Epoch 1/10\n",
      "1/1 [==============================] - 0s - loss: 1.1921e-07 - acc: 1.0000 - val_loss: 15.9424 - val_acc: 0.0000e+00\n",
      "Epoch 2/10\n",
      "1/1 [==============================] - 0s - loss: 16.1181 - acc: 0.0000e+00 - val_loss: 15.9424 - val_acc: 0.0000e+00\n",
      "Epoch 3/10\n",
      "1/1 [==============================] - 0s - loss: 1.1921e-07 - acc: 1.0000 - val_loss: 15.9424 - val_acc: 0.0000e+00\n",
      "Epoch 4/10\n",
      "1/1 [==============================] - 0s - loss: 1.1921e-07 - acc: 1.0000 - val_loss: 15.9424 - val_acc: 0.0000e+00\n",
      "Epoch 5/10\n",
      "1/1 [==============================] - 0s - loss: 1.1921e-07 - acc: 1.0000 - val_loss: 15.9424 - val_acc: 0.0000e+00\n",
      "Epoch 6/10\n",
      "1/1 [==============================] - 0s - loss: 1.1921e-07 - acc: 1.0000 - val_loss: 15.9424 - val_acc: 0.0000e+00\n",
      "Epoch 7/10\n",
      "1/1 [==============================] - 0s - loss: 1.1921e-07 - acc: 1.0000 - val_loss: 15.9424 - val_acc: 0.0000e+00\n",
      "Epoch 8/10\n",
      "1/1 [==============================] - 0s - loss: 16.1181 - acc: 0.0000e+00 - val_loss: 15.9424 - val_acc: 0.0000e+00\n",
      "Epoch 9/10\n",
      "1/1 [==============================] - 0s - loss: 1.1921e-07 - acc: 1.0000 - val_loss: 15.9424 - val_acc: 0.0000e+00\n",
      "Epoch 10/10\n",
      "1/1 [==============================] - 0s - loss: 1.1921e-07 - acc: 1.0000 - val_loss: 15.9424 - val_acc: 0.0000e+00\n"
     ]
    },
    {
     "data": {
      "text/plain": [
       "<keras.callbacks.History at 0x11e2ddcd0>"
      ]
     },
     "execution_count": 100,
     "metadata": {},
     "output_type": "execute_result"
    }
   ],
   "source": [
    "model.fit(data, label, batch_size=128, nb_epoch=20,shuffle=True,verbose=1,show_accuracy=True,validation_split=0.11)\n",
    "model.save_weights('/mnt2/zhaihuixin/src/jianhuang.h5')"
   ]
  },
  {
   "cell_type": "code",
   "execution_count": 22,
   "metadata": {
    "collapsed": false
   },
   "outputs": [
    {
     "name": "stdout",
     "output_type": "stream",
     "text": [
      "____________________________________________________________________________________________________\n",
      "Layer (type)                     Output Shape          Param #     Connected to                     \n",
      "====================================================================================================\n",
      "convolution2d_1 (Convolution2D)  (None, 62, 62, 64)    1792        convolution2d_input_1[0][0]      \n",
      "____________________________________________________________________________________________________\n",
      "activation_1 (Activation)        (None, 62, 62, 64)    0           convolution2d_1[0][0]            \n",
      "____________________________________________________________________________________________________\n",
      "maxpooling2d_1 (MaxPooling2D)    (None, 31, 31, 64)    0           activation_1[0][0]               \n",
      "____________________________________________________________________________________________________\n",
      "convolution2d_2 (Convolution2D)  (None, 29, 29, 64)    36928       maxpooling2d_1[0][0]             \n",
      "____________________________________________________________________________________________________\n",
      "activation_2 (Activation)        (None, 29, 29, 64)    0           convolution2d_2[0][0]            \n",
      "____________________________________________________________________________________________________\n",
      "maxpooling2d_2 (MaxPooling2D)    (None, 14, 14, 64)    0           activation_2[0][0]               \n",
      "____________________________________________________________________________________________________\n",
      "flatten_1 (Flatten)              (None, 12544)         0           maxpooling2d_2[0][0]             \n",
      "____________________________________________________________________________________________________\n",
      "dense_1 (Dense)                  (None, 128)           1605760     flatten_1[0][0]                  \n",
      "____________________________________________________________________________________________________\n",
      "activation_3 (Activation)        (None, 128)           0           dense_1[0][0]                    \n",
      "____________________________________________________________________________________________________\n",
      "dropout_1 (Dropout)              (None, 128)           0           activation_3[0][0]               \n",
      "____________________________________________________________________________________________________\n",
      "dense_2 (Dense)                  (None, 128)           16512       dropout_1[0][0]                  \n",
      "____________________________________________________________________________________________________\n",
      "activation_4 (Activation)        (None, 128)           0           dense_2[0][0]                    \n",
      "____________________________________________________________________________________________________\n",
      "dropout_2 (Dropout)              (None, 128)           0           activation_4[0][0]               \n",
      "____________________________________________________________________________________________________\n",
      "dense_3 (Dense)                  (None, 1)             129         dropout_2[0][0]                  \n",
      "____________________________________________________________________________________________________\n",
      "activation_5 (Activation)        (None, 1)             0           dense_3[0][0]                    \n",
      "====================================================================================================\n",
      "Total params: 1661121\n",
      "____________________________________________________________________________________________________\n"
     ]
    }
   ],
   "source": [
    "print ('\\r\\nTry to Predict input images:')\n",
    "print ('=====================================')\n",
    "\n",
    "re_img = preprocess_image('/mnt2/zhaihuixin/6.jpg')  # this is a jpg image (size (1, 64, 64, 3))\n",
    "\n",
    "print model.predict(re_img)\n",
    "print model.predict_proba(re_img)"
   ]
  },
  {
   "cell_type": "code",
   "execution_count": null,
   "metadata": {
    "collapsed": true
   },
   "outputs": [],
   "source": [
    "import os\n",
    "import glob\n",
    "path = '/mnt2/zhaihuixin/gol075/'\n",
    "files = os.listdir(path) \n",
    "for f in files:\n",
    "    x_img = preprocess_image(path+f)\n",
    "    print (f + ' probability is: %3.3f%% ' %(100*model.predict_proba(x_img)))"
   ]
  }
 ],
 "metadata": {
  "anaconda-cloud": {},
  "kernelspec": {
   "display_name": "Python [Root]",
   "language": "python",
   "name": "Python [Root]"
  },
  "language_info": {
   "codemirror_mode": {
    "name": "ipython",
    "version": 2
   },
   "file_extension": ".py",
   "mimetype": "text/x-python",
   "name": "python",
   "nbconvert_exporter": "python",
   "pygments_lexer": "ipython2",
   "version": "2.7.12"
  }
 },
 "nbformat": 4,
 "nbformat_minor": 0
}
